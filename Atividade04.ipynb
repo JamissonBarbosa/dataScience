{
  "nbformat": 4,
  "nbformat_minor": 0,
  "metadata": {
    "colab": {
      "name": "Atividade04.ipynb",
      "provenance": [],
      "collapsed_sections": []
    },
    "kernelspec": {
      "name": "python3",
      "display_name": "Python 3"
    }
  },
  "cells": [
    {
      "cell_type": "markdown",
      "metadata": {
        "id": "yfs2143a4kRk",
        "colab_type": "text"
      },
      "source": [
        "**Registro Clínicos de insuficiência cardiáca**\n",
        "\n",
        "\n",
        "\n",
        "*  data set contém um conjunto de características \n",
        "\n",
        "  que podem ser usadas para prever a mortalidade por\n",
        "\n",
        "  insuficiência cardíaca.\n",
        "\n",
        "\n",
        "\n",
        "\n",
        "\n"
      ]
    },
    {
      "cell_type": "code",
      "metadata": {
        "id": "Q5cQE9a3-k00",
        "colab_type": "code",
        "colab": {}
      },
      "source": [
        "import pandas as pd\n",
        "import matplotlib.pyplot as plt"
      ],
      "execution_count": null,
      "outputs": []
    },
    {
      "cell_type": "markdown",
      "metadata": {
        "id": "LUh9ReR3Al6f",
        "colab_type": "text"
      },
      "source": [
        "importndo algumas das principais biblioteca como pandas e matplot"
      ]
    },
    {
      "cell_type": "code",
      "metadata": {
        "id": "W0zNDvxyA4GV",
        "colab_type": "code",
        "colab": {}
      },
      "source": [
        "dataFrame = pd.read_csv('/content/drive/My Drive/heart_failure_clinical.csv')\n",
        "\n"
      ],
      "execution_count": null,
      "outputs": []
    },
    {
      "cell_type": "markdown",
      "metadata": {
        "id": "i3FY-9djA7Vo",
        "colab_type": "text"
      },
      "source": [
        "Atribuir a uma variável o dataset escolhido"
      ]
    },
    {
      "cell_type": "code",
      "metadata": {
        "id": "zufZ-hLlBKXN",
        "colab_type": "code",
        "colab": {}
      },
      "source": [
        "dataFrame.head()"
      ],
      "execution_count": null,
      "outputs": []
    },
    {
      "cell_type": "markdown",
      "metadata": {
        "id": "i9iBm82eBMyu",
        "colab_type": "text"
      },
      "source": [
        "Com o método head() é possível ver as promeiras linha dos dataframe, por padrão ele exibe as primeiras 5 linhas"
      ]
    },
    {
      "cell_type": "code",
      "metadata": {
        "id": "l8hfeZAhNKzS",
        "colab_type": "code",
        "colab": {
          "base_uri": "https://localhost:8080/",
          "height": 357
        },
        "outputId": "bca9027c-afff-41df-dace-3c6594dc6f55"
      },
      "source": [
        "dataFrame.describe()\n",
        "dataFrame.info()"
      ],
      "execution_count": null,
      "outputs": [
        {
          "output_type": "stream",
          "text": [
            "<class 'pandas.core.frame.DataFrame'>\n",
            "RangeIndex: 299 entries, 0 to 298\n",
            "Data columns (total 13 columns):\n",
            " #   Column                    Non-Null Count  Dtype  \n",
            "---  ------                    --------------  -----  \n",
            " 0   age                       299 non-null    float64\n",
            " 1   anaemia                   299 non-null    int64  \n",
            " 2   creatinine_phosphokinase  299 non-null    int64  \n",
            " 3   diabetes                  299 non-null    int64  \n",
            " 4   ejection_fraction         299 non-null    int64  \n",
            " 5   high_blood_pressure       299 non-null    int64  \n",
            " 6   platelets                 299 non-null    float64\n",
            " 7   serum_creatinine          299 non-null    float64\n",
            " 8   serum_sodium              299 non-null    int64  \n",
            " 9   sex                       299 non-null    int64  \n",
            " 10  smoking                   299 non-null    int64  \n",
            " 11  time                      299 non-null    int64  \n",
            " 12  DEATH_EVENT               299 non-null    int64  \n",
            "dtypes: float64(3), int64(10)\n",
            "memory usage: 30.5 KB\n"
          ],
          "name": "stdout"
        }
      ]
    },
    {
      "cell_type": "markdown",
      "metadata": {
        "id": "W6yujlZ4OAm3",
        "colab_type": "text"
      },
      "source": [
        "Podemos usar o describe() e info() para retornar um resumo estatístico das variáveis númericas e obter um resumo de valores não-nulos encontrados respectivamente."
      ]
    },
    {
      "cell_type": "code",
      "metadata": {
        "id": "MLhenjPCCA1J",
        "colab_type": "code",
        "colab": {
          "base_uri": "https://localhost:8080/",
          "height": 204
        },
        "outputId": "12fe706d-84ea-4314-925b-999591ffd54c"
      },
      "source": [
        "dataFrame.isnull().sum().sort_values(ascending=False)[:10]"
      ],
      "execution_count": null,
      "outputs": [
        {
          "output_type": "execute_result",
          "data": {
            "text/plain": [
              "DEATH_EVENT            0\n",
              "time                   0\n",
              "smoking                0\n",
              "sex                    0\n",
              "serum_sodium           0\n",
              "serum_creatinine       0\n",
              "platelets              0\n",
              "high_blood_pressure    0\n",
              "ejection_fraction      0\n",
              "diabetes               0\n",
              "dtype: int64"
            ]
          },
          "metadata": {
            "tags": []
          },
          "execution_count": 4
        }
      ]
    },
    {
      "cell_type": "markdown",
      "metadata": {
        "id": "WX7htLUiEHM5",
        "colab_type": "text"
      },
      "source": [
        "Usando a combinação de aalguns métodos como o isnull().sum() podemos ver a soma dos valores nulos encontrados. Podemos ver um alto número de dados faltantes em alguns atributos\n"
      ]
    },
    {
      "cell_type": "code",
      "metadata": {
        "id": "3L3zwaGJFOIj",
        "colab_type": "code",
        "colab": {}
      },
      "source": [
        "\n",
        "dataFrame = dataFrame.dropna()"
      ],
      "execution_count": null,
      "outputs": []
    },
    {
      "cell_type": "markdown",
      "metadata": {
        "id": "_wzA8CmrGTs5",
        "colab_type": "text"
      },
      "source": [
        "Verifica se existem valores NAN, ? ou dados faltantes"
      ]
    },
    {
      "cell_type": "code",
      "metadata": {
        "id": "g3dYQEVKuxL3",
        "colab_type": "code",
        "colab": {
          "base_uri": "https://localhost:8080/",
          "height": 224
        },
        "outputId": "4c0bcaca-c960-4e4b-8a86-51a800715174"
      },
      "source": [
        "dataFrame = (dataFrame - dataFrame.min())/(dataFrame.max()-dataFrame.min())\n",
        "dataFrame.head()"
      ],
      "execution_count": null,
      "outputs": [
        {
          "output_type": "execute_result",
          "data": {
            "text/html": [
              "<div>\n",
              "<style scoped>\n",
              "    .dataframe tbody tr th:only-of-type {\n",
              "        vertical-align: middle;\n",
              "    }\n",
              "\n",
              "    .dataframe tbody tr th {\n",
              "        vertical-align: top;\n",
              "    }\n",
              "\n",
              "    .dataframe thead th {\n",
              "        text-align: right;\n",
              "    }\n",
              "</style>\n",
              "<table border=\"1\" class=\"dataframe\">\n",
              "  <thead>\n",
              "    <tr style=\"text-align: right;\">\n",
              "      <th></th>\n",
              "      <th>age</th>\n",
              "      <th>anaemia</th>\n",
              "      <th>creatinine_phosphokinase</th>\n",
              "      <th>diabetes</th>\n",
              "      <th>ejection_fraction</th>\n",
              "      <th>high_blood_pressure</th>\n",
              "      <th>platelets</th>\n",
              "      <th>serum_creatinine</th>\n",
              "      <th>serum_sodium</th>\n",
              "      <th>sex</th>\n",
              "      <th>smoking</th>\n",
              "      <th>time</th>\n",
              "      <th>DEATH_EVENT</th>\n",
              "    </tr>\n",
              "  </thead>\n",
              "  <tbody>\n",
              "    <tr>\n",
              "      <th>0</th>\n",
              "      <td>0.636364</td>\n",
              "      <td>0.0</td>\n",
              "      <td>0.071319</td>\n",
              "      <td>0.0</td>\n",
              "      <td>0.090909</td>\n",
              "      <td>1.0</td>\n",
              "      <td>0.290823</td>\n",
              "      <td>0.157303</td>\n",
              "      <td>0.485714</td>\n",
              "      <td>1.0</td>\n",
              "      <td>0.0</td>\n",
              "      <td>0.000000</td>\n",
              "      <td>1.0</td>\n",
              "    </tr>\n",
              "    <tr>\n",
              "      <th>1</th>\n",
              "      <td>0.272727</td>\n",
              "      <td>0.0</td>\n",
              "      <td>1.000000</td>\n",
              "      <td>0.0</td>\n",
              "      <td>0.363636</td>\n",
              "      <td>0.0</td>\n",
              "      <td>0.288833</td>\n",
              "      <td>0.067416</td>\n",
              "      <td>0.657143</td>\n",
              "      <td>1.0</td>\n",
              "      <td>0.0</td>\n",
              "      <td>0.007117</td>\n",
              "      <td>1.0</td>\n",
              "    </tr>\n",
              "    <tr>\n",
              "      <th>2</th>\n",
              "      <td>0.454545</td>\n",
              "      <td>0.0</td>\n",
              "      <td>0.015693</td>\n",
              "      <td>0.0</td>\n",
              "      <td>0.090909</td>\n",
              "      <td>0.0</td>\n",
              "      <td>0.165960</td>\n",
              "      <td>0.089888</td>\n",
              "      <td>0.457143</td>\n",
              "      <td>1.0</td>\n",
              "      <td>1.0</td>\n",
              "      <td>0.010676</td>\n",
              "      <td>1.0</td>\n",
              "    </tr>\n",
              "    <tr>\n",
              "      <th>3</th>\n",
              "      <td>0.181818</td>\n",
              "      <td>1.0</td>\n",
              "      <td>0.011227</td>\n",
              "      <td>0.0</td>\n",
              "      <td>0.090909</td>\n",
              "      <td>0.0</td>\n",
              "      <td>0.224148</td>\n",
              "      <td>0.157303</td>\n",
              "      <td>0.685714</td>\n",
              "      <td>1.0</td>\n",
              "      <td>0.0</td>\n",
              "      <td>0.010676</td>\n",
              "      <td>1.0</td>\n",
              "    </tr>\n",
              "    <tr>\n",
              "      <th>4</th>\n",
              "      <td>0.454545</td>\n",
              "      <td>1.0</td>\n",
              "      <td>0.017479</td>\n",
              "      <td>1.0</td>\n",
              "      <td>0.090909</td>\n",
              "      <td>0.0</td>\n",
              "      <td>0.365984</td>\n",
              "      <td>0.247191</td>\n",
              "      <td>0.085714</td>\n",
              "      <td>0.0</td>\n",
              "      <td>0.0</td>\n",
              "      <td>0.014235</td>\n",
              "      <td>1.0</td>\n",
              "    </tr>\n",
              "  </tbody>\n",
              "</table>\n",
              "</div>"
            ],
            "text/plain": [
              "        age  anaemia  creatinine_phosphokinase  ...  smoking      time  DEATH_EVENT\n",
              "0  0.636364      0.0                  0.071319  ...      0.0  0.000000          1.0\n",
              "1  0.272727      0.0                  1.000000  ...      0.0  0.007117          1.0\n",
              "2  0.454545      0.0                  0.015693  ...      1.0  0.010676          1.0\n",
              "3  0.181818      1.0                  0.011227  ...      0.0  0.010676          1.0\n",
              "4  0.454545      1.0                  0.017479  ...      0.0  0.014235          1.0\n",
              "\n",
              "[5 rows x 13 columns]"
            ]
          },
          "metadata": {
            "tags": []
          },
          "execution_count": 6
        }
      ]
    },
    {
      "cell_type": "markdown",
      "metadata": {
        "id": "kOCuJFmMvUcM",
        "colab_type": "text"
      },
      "source": [
        "Re-escala usando máxino e mínimo\n"
      ]
    },
    {
      "cell_type": "code",
      "metadata": {
        "id": "T7NDzohB8Gqg",
        "colab_type": "code",
        "colab": {
          "base_uri": "https://localhost:8080/",
          "height": 224
        },
        "outputId": "3f7c2fd9-1721-40e5-a1b9-93680d36ed7a"
      },
      "source": [
        "X = dataFrame.iloc[:, :-3]\n",
        "X.head()"
      ],
      "execution_count": null,
      "outputs": [
        {
          "output_type": "execute_result",
          "data": {
            "text/html": [
              "<div>\n",
              "<style scoped>\n",
              "    .dataframe tbody tr th:only-of-type {\n",
              "        vertical-align: middle;\n",
              "    }\n",
              "\n",
              "    .dataframe tbody tr th {\n",
              "        vertical-align: top;\n",
              "    }\n",
              "\n",
              "    .dataframe thead th {\n",
              "        text-align: right;\n",
              "    }\n",
              "</style>\n",
              "<table border=\"1\" class=\"dataframe\">\n",
              "  <thead>\n",
              "    <tr style=\"text-align: right;\">\n",
              "      <th></th>\n",
              "      <th>age</th>\n",
              "      <th>anaemia</th>\n",
              "      <th>creatinine_phosphokinase</th>\n",
              "      <th>diabetes</th>\n",
              "      <th>ejection_fraction</th>\n",
              "      <th>high_blood_pressure</th>\n",
              "      <th>platelets</th>\n",
              "      <th>serum_creatinine</th>\n",
              "      <th>serum_sodium</th>\n",
              "      <th>sex</th>\n",
              "    </tr>\n",
              "  </thead>\n",
              "  <tbody>\n",
              "    <tr>\n",
              "      <th>0</th>\n",
              "      <td>0.636364</td>\n",
              "      <td>0.0</td>\n",
              "      <td>0.071319</td>\n",
              "      <td>0.0</td>\n",
              "      <td>0.090909</td>\n",
              "      <td>1.0</td>\n",
              "      <td>0.290823</td>\n",
              "      <td>0.157303</td>\n",
              "      <td>0.485714</td>\n",
              "      <td>1.0</td>\n",
              "    </tr>\n",
              "    <tr>\n",
              "      <th>1</th>\n",
              "      <td>0.272727</td>\n",
              "      <td>0.0</td>\n",
              "      <td>1.000000</td>\n",
              "      <td>0.0</td>\n",
              "      <td>0.363636</td>\n",
              "      <td>0.0</td>\n",
              "      <td>0.288833</td>\n",
              "      <td>0.067416</td>\n",
              "      <td>0.657143</td>\n",
              "      <td>1.0</td>\n",
              "    </tr>\n",
              "    <tr>\n",
              "      <th>2</th>\n",
              "      <td>0.454545</td>\n",
              "      <td>0.0</td>\n",
              "      <td>0.015693</td>\n",
              "      <td>0.0</td>\n",
              "      <td>0.090909</td>\n",
              "      <td>0.0</td>\n",
              "      <td>0.165960</td>\n",
              "      <td>0.089888</td>\n",
              "      <td>0.457143</td>\n",
              "      <td>1.0</td>\n",
              "    </tr>\n",
              "    <tr>\n",
              "      <th>3</th>\n",
              "      <td>0.181818</td>\n",
              "      <td>1.0</td>\n",
              "      <td>0.011227</td>\n",
              "      <td>0.0</td>\n",
              "      <td>0.090909</td>\n",
              "      <td>0.0</td>\n",
              "      <td>0.224148</td>\n",
              "      <td>0.157303</td>\n",
              "      <td>0.685714</td>\n",
              "      <td>1.0</td>\n",
              "    </tr>\n",
              "    <tr>\n",
              "      <th>4</th>\n",
              "      <td>0.454545</td>\n",
              "      <td>1.0</td>\n",
              "      <td>0.017479</td>\n",
              "      <td>1.0</td>\n",
              "      <td>0.090909</td>\n",
              "      <td>0.0</td>\n",
              "      <td>0.365984</td>\n",
              "      <td>0.247191</td>\n",
              "      <td>0.085714</td>\n",
              "      <td>0.0</td>\n",
              "    </tr>\n",
              "  </tbody>\n",
              "</table>\n",
              "</div>"
            ],
            "text/plain": [
              "        age  anaemia  ...  serum_sodium  sex\n",
              "0  0.636364      0.0  ...      0.485714  1.0\n",
              "1  0.272727      0.0  ...      0.657143  1.0\n",
              "2  0.454545      0.0  ...      0.457143  1.0\n",
              "3  0.181818      1.0  ...      0.685714  1.0\n",
              "4  0.454545      1.0  ...      0.085714  0.0\n",
              "\n",
              "[5 rows x 10 columns]"
            ]
          },
          "metadata": {
            "tags": []
          },
          "execution_count": 9
        }
      ]
    },
    {
      "cell_type": "code",
      "metadata": {
        "id": "1KOHG4zuD0p7",
        "colab_type": "code",
        "colab": {
          "base_uri": "https://localhost:8080/",
          "height": 119
        },
        "outputId": "cdb9b1a3-c7be-4dc8-87ee-429e7e8f392b"
      },
      "source": [
        "Y = dataFrame.smoking\n",
        "Y.head()"
      ],
      "execution_count": null,
      "outputs": [
        {
          "output_type": "execute_result",
          "data": {
            "text/plain": [
              "0    0.0\n",
              "1    0.0\n",
              "2    1.0\n",
              "3    0.0\n",
              "4    0.0\n",
              "Name: smoking, dtype: float64"
            ]
          },
          "metadata": {
            "tags": []
          },
          "execution_count": 10
        }
      ]
    },
    {
      "cell_type": "markdown",
      "metadata": {
        "id": "ChnV72NuEL5x",
        "colab_type": "text"
      },
      "source": [
        "Separando os dados em atributos descritores e atributos de classses ulizando o iloc()"
      ]
    },
    {
      "cell_type": "markdown",
      "metadata": {
        "id": "_3sOG2DEDxvV",
        "colab_type": "text"
      },
      "source": [
        "# **Análise de Agrupamento**\n",
        "\n",
        "\n",
        "\n",
        "*   Objetivo desse aprendizado não supervisionado é criar grupos coesos\n",
        "\n",
        "\n",
        "\n"
      ]
    },
    {
      "cell_type": "code",
      "metadata": {
        "id": "xZ8O--YtLxwv",
        "colab_type": "code",
        "colab": {}
      },
      "source": [
        "# Importando bibliotecas\n",
        "from mpl_toolkits.mplot3d import Axes3D\n",
        "\n",
        "from sklearn.model_selection import train_test_split\n",
        "from sklearn.cluster import KMeans"
      ],
      "execution_count": null,
      "outputs": []
    },
    {
      "cell_type": "markdown",
      "metadata": {
        "id": "1pkLs8ZAL_cN",
        "colab_type": "text"
      },
      "source": [
        "# **Definindo o algoritmo de agrumento**\n",
        "\n",
        "**Criando o modelo e ajustando aos dados**"
      ]
    },
    {
      "cell_type": "code",
      "metadata": {
        "id": "APQXysdJMwHR",
        "colab_type": "code",
        "colab": {
          "base_uri": "https://localhost:8080/",
          "height": 68
        },
        "outputId": "7239037d-f6c8-4071-9156-5806649ecd6c"
      },
      "source": [
        "#agrupamento\n",
        "kmeans = KMeans(n_clusters=2)\n",
        "kmeans.fit(X)"
      ],
      "execution_count": null,
      "outputs": [
        {
          "output_type": "execute_result",
          "data": {
            "text/plain": [
              "KMeans(algorithm='auto', copy_x=True, init='k-means++', max_iter=300,\n",
              "       n_clusters=2, n_init=10, n_jobs=None, precompute_distances='auto',\n",
              "       random_state=None, tol=0.0001, verbose=0)"
            ]
          },
          "metadata": {
            "tags": []
          },
          "execution_count": 12
        }
      ]
    },
    {
      "cell_type": "code",
      "metadata": {
        "id": "oB6NEFD2NDdq",
        "colab_type": "code",
        "colab": {
          "base_uri": "https://localhost:8080/",
          "height": 255
        },
        "outputId": "14438e77-e81c-44af-a3ea-b431ea9b8833"
      },
      "source": [
        "labels = kmeans.predict(X)\n",
        "labels"
      ],
      "execution_count": null,
      "outputs": [
        {
          "output_type": "execute_result",
          "data": {
            "text/plain": [
              "array([1, 1, 1, 1, 0, 1, 1, 0, 1, 1, 1, 1, 1, 1, 1, 1, 1, 1, 1, 0, 1, 0,\n",
              "       1, 0, 0, 0, 1, 0, 1, 0, 0, 1, 0, 0, 0, 0, 0, 0, 0, 0, 1, 0, 0, 0,\n",
              "       0, 0, 1, 0, 1, 1, 1, 1, 0, 0, 0, 1, 1, 1, 1, 0, 0, 1, 1, 1, 1, 1,\n",
              "       0, 1, 1, 0, 1, 0, 1, 0, 1, 1, 1, 0, 0, 1, 1, 1, 0, 1, 0, 1, 1, 0,\n",
              "       0, 1, 0, 0, 1, 1, 0, 1, 0, 1, 0, 0, 1, 1, 1, 1, 1, 1, 1, 0, 1, 0,\n",
              "       1, 1, 0, 1, 0, 1, 0, 1, 0, 1, 1, 0, 0, 1, 1, 1, 0, 0, 1, 0, 1, 0,\n",
              "       1, 1, 1, 1, 0, 1, 0, 1, 1, 1, 0, 1, 1, 1, 1, 1, 1, 1, 1, 0, 1, 0,\n",
              "       1, 0, 1, 1, 1, 1, 1, 1, 1, 0, 0, 0, 1, 0, 0, 1, 0, 1, 1, 1, 0, 1,\n",
              "       1, 1, 0, 1, 0, 0, 0, 1, 1, 0, 1, 0, 0, 1, 0, 1, 0, 0, 1, 1, 0, 1,\n",
              "       0, 0, 1, 0, 1, 1, 1, 0, 1, 1, 0, 0, 0, 1, 1, 0, 1, 1, 1, 1, 0, 0,\n",
              "       1, 1, 1, 1, 0, 0, 1, 1, 1, 1, 1, 1, 1, 1, 1, 1, 1, 1, 0, 1, 0, 0,\n",
              "       1, 1, 0, 0, 1, 1, 1, 0, 1, 0, 1, 0, 1, 0, 1, 0, 0, 1, 1, 1, 0, 0,\n",
              "       0, 1, 1, 0, 0, 0, 0, 0, 1, 1, 0, 1, 1, 0, 0, 0, 0, 1, 1, 1, 1, 0,\n",
              "       1, 0, 0, 1, 0, 1, 0, 0, 0, 1, 0, 1, 1], dtype=int32)"
            ]
          },
          "metadata": {
            "tags": []
          },
          "execution_count": 13
        }
      ]
    },
    {
      "cell_type": "markdown",
      "metadata": {
        "id": "QIeokfddNQm7",
        "colab_type": "text"
      },
      "source": [
        "**Visualizando os resultados do agrupamento**"
      ]
    },
    {
      "cell_type": "code",
      "metadata": {
        "id": "lmpjF1VUNitk",
        "colab_type": "code",
        "colab": {}
      },
      "source": [
        "X = X.reset_index(drop=True)"
      ],
      "execution_count": null,
      "outputs": []
    },
    {
      "cell_type": "code",
      "metadata": {
        "id": "RCBIZiOpNq5c",
        "colab_type": "code",
        "colab": {}
      },
      "source": [
        "# adicionando as labels ao teste para fins de visualização\n",
        "grupos = pd.DataFrame(labels)\n",
        "X.insert((X.shape[1]),'smoking',grupos)"
      ],
      "execution_count": null,
      "outputs": []
    },
    {
      "cell_type": "code",
      "metadata": {
        "id": "-KVoqZzwNrV0",
        "colab_type": "code",
        "colab": {}
      },
      "source": [
        "fumante = X[X['smoking']==0]\n",
        "no_fumante = X[X['smoking']==1]\n"
      ],
      "execution_count": null,
      "outputs": []
    },
    {
      "cell_type": "code",
      "metadata": {
        "id": "M5anmXYVNrvd",
        "colab_type": "code",
        "colab": {}
      },
      "source": [
        "plt.rcParams[\"figure.figsize\"] = (8,5)"
      ],
      "execution_count": null,
      "outputs": []
    },
    {
      "cell_type": "code",
      "metadata": {
        "id": "4rzCoH3OOs1Z",
        "colab_type": "code",
        "colab": {
          "base_uri": "https://localhost:8080/",
          "height": 303
        },
        "outputId": "897eb905-a859-47e8-d685-21245d207d77"
      },
      "source": [
        "#plotando alguns atributos das classes\n",
        "ax = plt.axes(projection='3d')\n",
        "ax.scatter3D(fumante.age,fumante.anaemia,fumante.creatinine_phosphokinase,s=50,label='fumante')\n",
        "ax.scatter3D(no_fumante.age,no_fumante.anaemia,no_fumante.creatinine_phosphokinase,s=50,label='no_fumante')\n",
        "plt.legend()\n",
        "ax.set_xlabel('idade')\n",
        "ax.set_ylabel('anemia')\n",
        "ax.set_zlabel('diabetes')\n",
        "plt.title('Idade, anemia e diabetes')\n",
        "plt.show()"
      ],
      "execution_count": null,
      "outputs": [
        {
          "output_type": "display_data",
          "data": {
            "image/png": "[encoded data removed]",
            "text/plain": [
              "<Figure size 576x360 with 1 Axes>"
            ]
          },
          "metadata": {
            "tags": [],
            "needs_background": "light"
          }
        }
      ]
    },
    {
      "cell_type": "code",
      "metadata": {
        "id": "7NwHoph0ROev",
        "colab_type": "code",
        "colab": {}
      },
      "source": [
        "plt.rcParams[\"figure.figsize\"] = (25,20)"
      ],
      "execution_count": null,
      "outputs": []
    },
    {
      "cell_type": "code",
      "metadata": {
        "id": "o7kwF-58RRPd",
        "colab_type": "code",
        "colab": {
          "base_uri": "https://localhost:8080/",
          "height": 685
        },
        "outputId": "e2884033-1dfd-4e50-f318-3a3a688618b7"
      },
      "source": [
        "#plotando comparação de alguns atributos\n",
        "fig, axs = plt.subplots(6,6)\n",
        "for i in range(6):\n",
        "  for j in range(6):\n",
        "    axs[i,j].scatter(fumante.iloc[i],fumante.iloc[j],label='benigno')\n",
        "    axs[i,j].scatter(no_fumante.iloc[i],no_fumante.iloc[j],label='maligno')\n",
        "    axs[i,j].set(xlabel=X.columns[i],ylabel=X.columns[j])\n",
        "plt.legend()\n",
        "plt.show()"
      ],
      "execution_count": null,
      "outputs": [
        {
          "output_type": "display_data",
          "data": {
            "image/png": "[encoded data removed]",
            "text/plain": [
              "<Figure size 1800x1440 with 36 Axes>"
            ]
          },
          "metadata": {
            "tags": [],
            "needs_background": "light"
          }
        }
      ]
    },
    {
      "cell_type": "markdown",
      "metadata": {
        "id": "f-z57AJ4ULS6",
        "colab_type": "text"
      },
      "source": [
        "# **Avaliando o modelo**\n",
        "\n",
        " **Métricas para quando se conhecem as classes**\n"
      ]
    },
    {
      "cell_type": "markdown",
      "metadata": {
        "id": "g9baBVzuYlGr",
        "colab_type": "text"
      },
      "source": [
        "**Acurácia**\n",
        "> * similar a métrica de classificação"
      ]
    },
    {
      "cell_type": "code",
      "metadata": {
        "id": "FZ6joosUVBnH",
        "colab_type": "code",
        "colab": {
          "base_uri": "https://localhost:8080/",
          "height": 34
        },
        "outputId": "c8fb065c-f0ae-4f93-c138-5bf8ff3d7a14"
      },
      "source": [
        "#Calculando Acurácia\n",
        "from sklearn.metrics import accuracy_score\n",
        "acuracia = accuracy_score(Y,labels)\n",
        "round(acuracia,3)"
      ],
      "execution_count": null,
      "outputs": [
        {
          "output_type": "execute_result",
          "data": {
            "text/plain": [
              "0.538"
            ]
          },
          "metadata": {
            "tags": []
          },
          "execution_count": 31
        }
      ]
    },
    {
      "cell_type": "markdown",
      "metadata": {
        "id": "tGFWc5KKW7Ud",
        "colab_type": "text"
      },
      "source": [
        "**Índice Rand Ajustado**\n",
        "> * Mede a similaridade de duas atribuições, ignorando permutações"
      ]
    },
    {
      "cell_type": "code",
      "metadata": {
        "id": "DZIwHHhlWXue",
        "colab_type": "code",
        "colab": {
          "base_uri": "https://localhost:8080/",
          "height": 34
        },
        "outputId": "3a46aa52-e816-499c-98db-73cf8b3192c2"
      },
      "source": [
        "#Calculando Rand Ajustado\n",
        "from sklearn.metrics import adjusted_rand_score\n",
        "rand_score = adjusted_rand_score(Y,labels)\n",
        "rand_score"
      ],
      "execution_count": null,
      "outputs": [
        {
          "output_type": "execute_result",
          "data": {
            "text/plain": [
              "-0.00037189751712351496"
            ]
          },
          "metadata": {
            "tags": []
          },
          "execution_count": 32
        }
      ]
    },
    {
      "cell_type": "markdown",
      "metadata": {
        "id": "OsqjfBLIW-Kt",
        "colab_type": "text"
      },
      "source": [
        "**Scores baseados em informação mútua**\n",
        "> * Mede a concordância entre duas atribuções, ignorando permutações"
      ]
    },
    {
      "cell_type": "code",
      "metadata": {
        "id": "DQnB-2kSWcAS",
        "colab_type": "code",
        "colab": {
          "base_uri": "https://localhost:8080/",
          "height": 34
        },
        "outputId": "8fa4f168-9ebb-4ba4-80d7-39f6c12367e0"
      },
      "source": [
        "#Calculando Informação Mútua\n",
        "from sklearn.metrics import adjusted_mutual_info_score\n",
        "mutual_info = adjusted_mutual_info_score(Y,labels)\n",
        "mutual_info"
      ],
      "execution_count": null,
      "outputs": [
        {
          "output_type": "execute_result",
          "data": {
            "text/plain": [
              "0.01435301554330748"
            ]
          },
          "metadata": {
            "tags": []
          },
          "execution_count": 33
        }
      ]
    },
    {
      "cell_type": "markdown",
      "metadata": {
        "id": "B-r23zK9ZLMh",
        "colab_type": "text"
      },
      "source": [
        "**Fowlkes-Mallows scores**\n",
        "> * Calculado como a média geométrica de precisão e recall"
      ]
    },
    {
      "cell_type": "code",
      "metadata": {
        "id": "R9aAESWcWmQN",
        "colab_type": "code",
        "colab": {
          "base_uri": "https://localhost:8080/",
          "height": 34
        },
        "outputId": "c8dc3c54-14eb-4396-e07b-b31152b0ab55"
      },
      "source": [
        "#Calculando Fowlkes-Mallows\n",
        "from sklearn.metrics import fowlkes_mallows_score\n",
        "fm = fowlkes_mallows_score(Y,labels)\n",
        "fm\n"
      ],
      "execution_count": null,
      "outputs": [
        {
          "output_type": "execute_result",
          "data": {
            "text/plain": [
              "0.536409138312417"
            ]
          },
          "metadata": {
            "tags": []
          },
          "execution_count": 34
        }
      ]
    },
    {
      "cell_type": "markdown",
      "metadata": {
        "id": "D_-GmlJ8aCNx",
        "colab_type": "text"
      },
      "source": [
        "# **Métricas quando as classes não são conhecidas**\n",
        "\n",
        "**Índice Davies-Boldin**\n",
        "> * indica uma smiliaridade média entre os grupos"
      ]
    },
    {
      "cell_type": "code",
      "metadata": {
        "id": "3HdXyiFcb1vw",
        "colab_type": "code",
        "colab": {}
      },
      "source": [
        "#excluindo a coluna diagnóstico\n",
        "X = X.drop(columns=['smoking'])"
      ],
      "execution_count": null,
      "outputs": []
    },
    {
      "cell_type": "code",
      "metadata": {
        "id": "n3yoHuQHcD2G",
        "colab_type": "code",
        "colab": {
          "base_uri": "https://localhost:8080/",
          "height": 34
        },
        "outputId": "0eadd112-a48a-4d0c-8a67-8f8ec94875db"
      },
      "source": [
        "#Calculando Índice Davies-Boldin\n",
        "from sklearn.metrics import davies_bouldin_score\n",
        "db = davies_bouldin_score(X,labels)\n",
        "db"
      ],
      "execution_count": null,
      "outputs": [
        {
          "output_type": "execute_result",
          "data": {
            "text/plain": [
              "1.780117686102779"
            ]
          },
          "metadata": {
            "tags": []
          },
          "execution_count": 36
        }
      ]
    },
    {
      "cell_type": "markdown",
      "metadata": {
        "id": "pTb0ZQNIk7ZJ",
        "colab_type": "text"
      },
      "source": [
        "**Coeficiente de Silhueta**\n",
        "\n",
        "> * a distância média entre uma instância e todas as instâncias no mesmo grupo\n",
        "> * a distância média entre uma instância e todas as instâncias no grupo mais próximo"
      ]
    },
    {
      "cell_type": "code",
      "metadata": {
        "id": "p80075VjlJQZ",
        "colab_type": "code",
        "colab": {
          "base_uri": "https://localhost:8080/",
          "height": 34
        },
        "outputId": "003d8b7b-9c99-424b-a9c2-ea89fd981ed2"
      },
      "source": [
        "#Calculando Coeficiente de Silhueta\n",
        "from sklearn.metrics import silhouette_score\n",
        "ss = silhouette_score(X,labels,metric='euclidean')\n",
        "ss"
      ],
      "execution_count": null,
      "outputs": [
        {
          "output_type": "execute_result",
          "data": {
            "text/plain": [
              "0.24081257521548233"
            ]
          },
          "metadata": {
            "tags": []
          },
          "execution_count": 37
        }
      ]
    },
    {
      "cell_type": "markdown",
      "metadata": {
        "id": "BQRQfoNZlSPU",
        "colab_type": "text"
      },
      "source": [
        "**Índice Calinski-Harabasz**\n",
        "\n",
        "> * Mede a dispersão entre grupos e intra-grupos para todos os grupos"
      ]
    },
    {
      "cell_type": "code",
      "metadata": {
        "id": "U473ICp2lW3a",
        "colab_type": "code",
        "colab": {
          "base_uri": "https://localhost:8080/",
          "height": 34
        },
        "outputId": "234c3ab6-40cd-44f9-f12b-50c14eacdd4c"
      },
      "source": [
        "#Calculando Índice Calinski-Harabasz\n",
        "from sklearn.metrics import calinski_harabasz_score\n",
        "ch = calinski_harabasz_score(X,labels)\n",
        "ch"
      ],
      "execution_count": null,
      "outputs": [
        {
          "output_type": "execute_result",
          "data": {
            "text/plain": [
              "89.19242921879727"
            ]
          },
          "metadata": {
            "tags": []
          },
          "execution_count": 38
        }
      ]
    },
    {
      "cell_type": "markdown",
      "metadata": {
        "id": "QigB0hGxl8BP",
        "colab_type": "text"
      },
      "source": [
        "#**Agrupamento Hierárquico**\n",
        "\n",
        "**Agrupamento Hierárquico Aglomerativo**\n",
        "> * Cria-se grupos a partir de folhas\n",
        "\n",
        "**Definindo modelo e realizando o agrupamento**"
      ]
    },
    {
      "cell_type": "code",
      "metadata": {
        "id": "HdPfX3hgmSsI",
        "colab_type": "code",
        "colab": {
          "base_uri": "https://localhost:8080/",
          "height": 255
        },
        "outputId": "148da7af-ee50-450a-f601-18cc1397bf35"
      },
      "source": [
        "from sklearn.cluster import AgglomerativeClustering\n",
        "\n",
        "hierarquico = AgglomerativeClustering(n_clusters=2)\n",
        "labels_hierarquico = hierarquico.fit(X).labels_\n",
        "\n",
        "labels_hierarquico"
      ],
      "execution_count": null,
      "outputs": [
        {
          "output_type": "execute_result",
          "data": {
            "text/plain": [
              "array([0, 0, 0, 1, 1, 1, 1, 1, 0, 1, 1, 0, 1, 1, 1, 1, 1, 0, 1, 1, 1, 1,\n",
              "       1, 0, 0, 0, 1, 0, 1, 0, 0, 0, 1, 1, 0, 0, 1, 1, 0, 0, 0, 0, 0, 0,\n",
              "       1, 0, 0, 0, 1, 1, 1, 1, 0, 1, 1, 1, 1, 1, 0, 0, 0, 0, 0, 0, 0, 0,\n",
              "       1, 1, 0, 0, 0, 0, 0, 0, 0, 1, 0, 0, 1, 0, 0, 0, 1, 1, 1, 0, 0, 1,\n",
              "       0, 1, 0, 0, 0, 1, 0, 1, 1, 1, 1, 1, 1, 0, 0, 0, 0, 1, 0, 1, 0, 0,\n",
              "       0, 0, 0, 1, 1, 1, 1, 1, 1, 0, 1, 1, 0, 1, 0, 1, 0, 1, 0, 1, 1, 1,\n",
              "       0, 0, 0, 0, 1, 1, 0, 0, 0, 1, 0, 1, 1, 0, 0, 0, 1, 0, 0, 0, 0, 0,\n",
              "       1, 1, 1, 0, 1, 1, 1, 1, 1, 1, 0, 0, 0, 0, 0, 0, 1, 0, 1, 1, 0, 1,\n",
              "       0, 1, 1, 0, 0, 1, 0, 0, 1, 1, 0, 0, 1, 0, 0, 1, 1, 1, 0, 1, 0, 0,\n",
              "       1, 0, 1, 0, 0, 0, 1, 1, 1, 0, 1, 0, 0, 0, 0, 1, 1, 0, 0, 1, 1, 0,\n",
              "       0, 0, 1, 0, 0, 0, 1, 1, 0, 0, 0, 0, 1, 1, 1, 1, 0, 0, 1, 1, 0, 0,\n",
              "       0, 1, 0, 1, 0, 0, 0, 0, 0, 0, 0, 0, 1, 1, 0, 0, 1, 0, 0, 1, 1, 1,\n",
              "       0, 1, 0, 1, 0, 0, 0, 0, 0, 0, 1, 0, 0, 0, 1, 0, 0, 0, 0, 0, 1, 1,\n",
              "       0, 0, 0, 1, 0, 0, 0, 1, 0, 0, 0, 0, 0])"
            ]
          },
          "metadata": {
            "tags": []
          },
          "execution_count": 39
        }
      ]
    },
    {
      "cell_type": "markdown",
      "metadata": {
        "id": "J2k3Iq0fmnPP",
        "colab_type": "text"
      },
      "source": [
        "**avaliando o Modelo**"
      ]
    },
    {
      "cell_type": "code",
      "metadata": {
        "id": "fGlTnwblmqaC",
        "colab_type": "code",
        "colab": {
          "base_uri": "https://localhost:8080/",
          "height": 34
        },
        "outputId": "bce9d876-f466-4716-df77-300da7aa5484"
      },
      "source": [
        "#acurácia\n",
        "acuracia = accuracy_score(Y,labels_hierarquico)\n",
        "round(acuracia,3)"
      ],
      "execution_count": null,
      "outputs": [
        {
          "output_type": "execute_result",
          "data": {
            "text/plain": [
              "0.475"
            ]
          },
          "metadata": {
            "tags": []
          },
          "execution_count": 42
        }
      ]
    },
    {
      "cell_type": "code",
      "metadata": {
        "id": "CyugrzVjmuII",
        "colab_type": "code",
        "colab": {
          "base_uri": "https://localhost:8080/",
          "height": 34
        },
        "outputId": "c9d8617e-3608-455a-8a5b-68938959bf9b"
      },
      "source": [
        "#índice rand ajustado\n",
        "rand_score = adjusted_rand_score(Y,labels_hierarquico)\n",
        "rand_score"
      ],
      "execution_count": null,
      "outputs": [
        {
          "output_type": "execute_result",
          "data": {
            "text/plain": [
              "-0.0027768201007691666"
            ]
          },
          "metadata": {
            "tags": []
          },
          "execution_count": 43
        }
      ]
    },
    {
      "cell_type": "code",
      "metadata": {
        "id": "2G8R93yfmzVf",
        "colab_type": "code",
        "colab": {
          "base_uri": "https://localhost:8080/",
          "height": 34
        },
        "outputId": "804ea892-66eb-464c-cd62-c4f2d43e5a3e"
      },
      "source": [
        "#índice baseado em informação mútua\n",
        "mutual_info = adjusted_mutual_info_score(Y,labels_hierarquico)\n",
        "mutual_info"
      ],
      "execution_count": null,
      "outputs": [
        {
          "output_type": "execute_result",
          "data": {
            "text/plain": [
              "0.006324809463850219"
            ]
          },
          "metadata": {
            "tags": []
          },
          "execution_count": 44
        }
      ]
    },
    {
      "cell_type": "code",
      "metadata": {
        "id": "c656ltyvm1d_",
        "colab_type": "code",
        "colab": {
          "base_uri": "https://localhost:8080/",
          "height": 34
        },
        "outputId": "b2e14b63-5d48-4097-9697-36740be0ed87"
      },
      "source": [
        "#índice Fowlkes Mallows\n",
        "fm = fowlkes_mallows_score(Y,labels_hierarquico)\n",
        "fm"
      ],
      "execution_count": null,
      "outputs": [
        {
          "output_type": "execute_result",
          "data": {
            "text/plain": [
              "0.5331633379753242"
            ]
          },
          "metadata": {
            "tags": []
          },
          "execution_count": 45
        }
      ]
    },
    {
      "cell_type": "code",
      "metadata": {
        "id": "vogiLuV4m3cf",
        "colab_type": "code",
        "colab": {
          "base_uri": "https://localhost:8080/",
          "height": 34
        },
        "outputId": "e5edcbb7-b315-44f1-c334-edeb71b1e14f"
      },
      "source": [
        "#indice Davies-Boldin\n",
        "db = davies_bouldin_score(X,labels_hierarquico)\n",
        "db"
      ],
      "execution_count": null,
      "outputs": [
        {
          "output_type": "execute_result",
          "data": {
            "text/plain": [
              "1.792144753693886"
            ]
          },
          "metadata": {
            "tags": []
          },
          "execution_count": 46
        }
      ]
    },
    {
      "cell_type": "code",
      "metadata": {
        "id": "7wuXCJw6m5RA",
        "colab_type": "code",
        "colab": {
          "base_uri": "https://localhost:8080/",
          "height": 34
        },
        "outputId": "e387c99e-6e89-428f-9255-054e36a6dd65"
      },
      "source": [
        "#coeficiente de silhueta\n",
        "ss = silhouette_score(X,labels_hierarquico,metric='euclidean')\n",
        "ss"
      ],
      "execution_count": null,
      "outputs": [
        {
          "output_type": "execute_result",
          "data": {
            "text/plain": [
              "0.23931789576315501"
            ]
          },
          "metadata": {
            "tags": []
          },
          "execution_count": 47
        }
      ]
    },
    {
      "cell_type": "code",
      "metadata": {
        "id": "ZXdZGZk3m7N3",
        "colab_type": "code",
        "colab": {
          "base_uri": "https://localhost:8080/",
          "height": 34
        },
        "outputId": "7e7f47da-af70-4450-a8eb-0a050e99057d"
      },
      "source": [
        "#indice de Calinski-Harabasz\n",
        "ch = calinski_harabasz_score(X,labels_hierarquico)\n",
        "ch\n"
      ],
      "execution_count": null,
      "outputs": [
        {
          "output_type": "execute_result",
          "data": {
            "text/plain": [
              "88.71587973805039"
            ]
          },
          "metadata": {
            "tags": []
          },
          "execution_count": 48
        }
      ]
    },
    {
      "cell_type": "markdown",
      "metadata": {
        "id": "MfT4W_9lj9-Y",
        "colab_type": "text"
      },
      "source": [
        "# Análise dos resultados\n",
        "\n",
        "Analisando os resultado obtidos nas avaliações de ambos os modelos, foi possível ver que a próximidade dos resultados tanto aplicando as métricas quando as classes são conhecidas como quando a méétricas não são conhecidas."
      ]
    }
  ]
}