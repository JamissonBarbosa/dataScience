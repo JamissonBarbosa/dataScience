{
  "nbformat": 4,
  "nbformat_minor": 0,
  "metadata": {
    "colab": {
      "name": "Atividade05.ipynb",
      "provenance": [],
      "collapsed_sections": []
    },
    "kernelspec": {
      "name": "python3",
      "display_name": "Python 3"
    }
  },
  "cells": [
    {
      "cell_type": "markdown",
      "metadata": {
        "id": "yfs2143a4kRk",
        "colab_type": "text"
      },
      "source": [
        "**Registro Clínicos de insuficiência cardiáca**\n",
        "\n",
        "\n",
        "\n",
        "*  data set contém um conjunto de características \n",
        "\n",
        "  que podem ser usadas para prever a mortalidade por\n",
        "\n",
        "  insuficiência cardíaca.\n",
        "\n",
        "\n",
        "\n",
        "\n",
        "\n"
      ]
    },
    {
      "cell_type": "code",
      "metadata": {
        "id": "Q5cQE9a3-k00",
        "colab_type": "code",
        "colab": {}
      },
      "source": [
        "#importando Bibliotecas \n",
        "import pandas as pd\n",
        "import matplotlib.pyplot as plt\n",
        "import seaborn as sns\n",
        "from sklearn.linear_model import LinearRegression\n",
        "from sklearn.tree import DecisionTreeRegressor\n",
        "from sklearn.ensemble import RandomForestRegressor\n",
        "from sklearn.neural_network import MLPRegressor"
      ],
      "execution_count": 23,
      "outputs": []
    },
    {
      "cell_type": "markdown",
      "metadata": {
        "id": "LUh9ReR3Al6f",
        "colab_type": "text"
      },
      "source": [
        "importndo algumas das principais biblioteca como pandas e matplot"
      ]
    },
    {
      "cell_type": "code",
      "metadata": {
        "id": "W0zNDvxyA4GV",
        "colab_type": "code",
        "colab": {}
      },
      "source": [
        "dataFrame = pd.read_csv('/content/drive/My Drive/heart_failure_clinical.csv')\n",
        "\n"
      ],
      "execution_count": 24,
      "outputs": []
    },
    {
      "cell_type": "markdown",
      "metadata": {
        "id": "i3FY-9djA7Vo",
        "colab_type": "text"
      },
      "source": [
        "Atribuir a uma variável o dataset escolhido"
      ]
    },
    {
      "cell_type": "code",
      "metadata": {
        "id": "zufZ-hLlBKXN",
        "colab_type": "code",
        "colab": {
          "base_uri": "https://localhost:8080/",
          "height": 224
        },
        "outputId": "a4fabeb3-a421-4525-848f-f20d19c049b0"
      },
      "source": [
        "dataFrame.head()"
      ],
      "execution_count": 25,
      "outputs": [
        {
          "output_type": "execute_result",
          "data": {
            "text/html": [
              "<div>\n",
              "<style scoped>\n",
              "    .dataframe tbody tr th:only-of-type {\n",
              "        vertical-align: middle;\n",
              "    }\n",
              "\n",
              "    .dataframe tbody tr th {\n",
              "        vertical-align: top;\n",
              "    }\n",
              "\n",
              "    .dataframe thead th {\n",
              "        text-align: right;\n",
              "    }\n",
              "</style>\n",
              "<table border=\"1\" class=\"dataframe\">\n",
              "  <thead>\n",
              "    <tr style=\"text-align: right;\">\n",
              "      <th></th>\n",
              "      <th>age</th>\n",
              "      <th>anaemia</th>\n",
              "      <th>creatinine_phosphokinase</th>\n",
              "      <th>diabetes</th>\n",
              "      <th>ejection_fraction</th>\n",
              "      <th>high_blood_pressure</th>\n",
              "      <th>platelets</th>\n",
              "      <th>serum_creatinine</th>\n",
              "      <th>serum_sodium</th>\n",
              "      <th>sex</th>\n",
              "      <th>smoking</th>\n",
              "      <th>time</th>\n",
              "      <th>DEATH_EVENT</th>\n",
              "    </tr>\n",
              "  </thead>\n",
              "  <tbody>\n",
              "    <tr>\n",
              "      <th>0</th>\n",
              "      <td>75.0</td>\n",
              "      <td>0</td>\n",
              "      <td>582</td>\n",
              "      <td>0</td>\n",
              "      <td>20</td>\n",
              "      <td>1</td>\n",
              "      <td>265000.00</td>\n",
              "      <td>1.9</td>\n",
              "      <td>130</td>\n",
              "      <td>1</td>\n",
              "      <td>0</td>\n",
              "      <td>4</td>\n",
              "      <td>1</td>\n",
              "    </tr>\n",
              "    <tr>\n",
              "      <th>1</th>\n",
              "      <td>55.0</td>\n",
              "      <td>0</td>\n",
              "      <td>7861</td>\n",
              "      <td>0</td>\n",
              "      <td>38</td>\n",
              "      <td>0</td>\n",
              "      <td>263358.03</td>\n",
              "      <td>1.1</td>\n",
              "      <td>136</td>\n",
              "      <td>1</td>\n",
              "      <td>0</td>\n",
              "      <td>6</td>\n",
              "      <td>1</td>\n",
              "    </tr>\n",
              "    <tr>\n",
              "      <th>2</th>\n",
              "      <td>65.0</td>\n",
              "      <td>0</td>\n",
              "      <td>146</td>\n",
              "      <td>0</td>\n",
              "      <td>20</td>\n",
              "      <td>0</td>\n",
              "      <td>162000.00</td>\n",
              "      <td>1.3</td>\n",
              "      <td>129</td>\n",
              "      <td>1</td>\n",
              "      <td>1</td>\n",
              "      <td>7</td>\n",
              "      <td>1</td>\n",
              "    </tr>\n",
              "    <tr>\n",
              "      <th>3</th>\n",
              "      <td>50.0</td>\n",
              "      <td>1</td>\n",
              "      <td>111</td>\n",
              "      <td>0</td>\n",
              "      <td>20</td>\n",
              "      <td>0</td>\n",
              "      <td>210000.00</td>\n",
              "      <td>1.9</td>\n",
              "      <td>137</td>\n",
              "      <td>1</td>\n",
              "      <td>0</td>\n",
              "      <td>7</td>\n",
              "      <td>1</td>\n",
              "    </tr>\n",
              "    <tr>\n",
              "      <th>4</th>\n",
              "      <td>65.0</td>\n",
              "      <td>1</td>\n",
              "      <td>160</td>\n",
              "      <td>1</td>\n",
              "      <td>20</td>\n",
              "      <td>0</td>\n",
              "      <td>327000.00</td>\n",
              "      <td>2.7</td>\n",
              "      <td>116</td>\n",
              "      <td>0</td>\n",
              "      <td>0</td>\n",
              "      <td>8</td>\n",
              "      <td>1</td>\n",
              "    </tr>\n",
              "  </tbody>\n",
              "</table>\n",
              "</div>"
            ],
            "text/plain": [
              "    age  anaemia  creatinine_phosphokinase  ...  smoking  time  DEATH_EVENT\n",
              "0  75.0        0                       582  ...        0     4            1\n",
              "1  55.0        0                      7861  ...        0     6            1\n",
              "2  65.0        0                       146  ...        1     7            1\n",
              "3  50.0        1                       111  ...        0     7            1\n",
              "4  65.0        1                       160  ...        0     8            1\n",
              "\n",
              "[5 rows x 13 columns]"
            ]
          },
          "metadata": {
            "tags": []
          },
          "execution_count": 25
        }
      ]
    },
    {
      "cell_type": "markdown",
      "metadata": {
        "id": "i9iBm82eBMyu",
        "colab_type": "text"
      },
      "source": [
        "Com o método head() é possível ver as promeiras linha dos dataframe, por padrão ele exibe as primeiras 5 linhas"
      ]
    },
    {
      "cell_type": "code",
      "metadata": {
        "id": "l8hfeZAhNKzS",
        "colab_type": "code",
        "colab": {
          "base_uri": "https://localhost:8080/",
          "height": 357
        },
        "outputId": "964ab5dc-4a31-42b1-c559-b92469072ce0"
      },
      "source": [
        "dataFrame.describe()\n",
        "dataFrame.info()"
      ],
      "execution_count": 26,
      "outputs": [
        {
          "output_type": "stream",
          "text": [
            "<class 'pandas.core.frame.DataFrame'>\n",
            "RangeIndex: 299 entries, 0 to 298\n",
            "Data columns (total 13 columns):\n",
            " #   Column                    Non-Null Count  Dtype  \n",
            "---  ------                    --------------  -----  \n",
            " 0   age                       299 non-null    float64\n",
            " 1   anaemia                   299 non-null    int64  \n",
            " 2   creatinine_phosphokinase  299 non-null    int64  \n",
            " 3   diabetes                  299 non-null    int64  \n",
            " 4   ejection_fraction         299 non-null    int64  \n",
            " 5   high_blood_pressure       299 non-null    int64  \n",
            " 6   platelets                 299 non-null    float64\n",
            " 7   serum_creatinine          299 non-null    float64\n",
            " 8   serum_sodium              299 non-null    int64  \n",
            " 9   sex                       299 non-null    int64  \n",
            " 10  smoking                   299 non-null    int64  \n",
            " 11  time                      299 non-null    int64  \n",
            " 12  DEATH_EVENT               299 non-null    int64  \n",
            "dtypes: float64(3), int64(10)\n",
            "memory usage: 30.5 KB\n"
          ],
          "name": "stdout"
        }
      ]
    },
    {
      "cell_type": "markdown",
      "metadata": {
        "id": "W6yujlZ4OAm3",
        "colab_type": "text"
      },
      "source": [
        "Podemos usar o describe() e info() para retornar um resumo estatístico das variáveis númericas e obter um resumo de valores não-nulos encontrados respectivamente."
      ]
    },
    {
      "cell_type": "code",
      "metadata": {
        "id": "MLhenjPCCA1J",
        "colab_type": "code",
        "colab": {
          "base_uri": "https://localhost:8080/",
          "height": 204
        },
        "outputId": "756ef771-c77a-443a-8497-f3d9cce3bf67"
      },
      "source": [
        "dataFrame.isnull().sum().sort_values(ascending=False)[:10]"
      ],
      "execution_count": 27,
      "outputs": [
        {
          "output_type": "execute_result",
          "data": {
            "text/plain": [
              "DEATH_EVENT            0\n",
              "time                   0\n",
              "smoking                0\n",
              "sex                    0\n",
              "serum_sodium           0\n",
              "serum_creatinine       0\n",
              "platelets              0\n",
              "high_blood_pressure    0\n",
              "ejection_fraction      0\n",
              "diabetes               0\n",
              "dtype: int64"
            ]
          },
          "metadata": {
            "tags": []
          },
          "execution_count": 27
        }
      ]
    },
    {
      "cell_type": "markdown",
      "metadata": {
        "id": "WX7htLUiEHM5",
        "colab_type": "text"
      },
      "source": [
        "Usando a combinação de aalguns métodos como o isnull().sum() podemos ver a soma dos valores nulos encontrados. Podemos ver um alto número de dados faltantes em alguns atributos\n"
      ]
    },
    {
      "cell_type": "code",
      "metadata": {
        "id": "3L3zwaGJFOIj",
        "colab_type": "code",
        "colab": {}
      },
      "source": [
        "\n",
        "dataFrame = dataFrame.dropna()"
      ],
      "execution_count": 28,
      "outputs": []
    },
    {
      "cell_type": "markdown",
      "metadata": {
        "id": "_wzA8CmrGTs5",
        "colab_type": "text"
      },
      "source": [
        "Verifica se existem valores NAN, ? ou dados faltantes"
      ]
    },
    {
      "cell_type": "markdown",
      "metadata": {
        "id": "CbWCXRqahgir",
        "colab_type": "text"
      },
      "source": [
        "# **Análise Preliminar dosdados**"
      ]
    },
    {
      "cell_type": "code",
      "metadata": {
        "id": "QdH99f5Xhrqh",
        "colab_type": "code",
        "colab": {
          "base_uri": "https://localhost:8080/",
          "height": 279
        },
        "outputId": "7fb6ed1f-7a85-488b-92d4-9e1100c6492c"
      },
      "source": [
        "#plotando evento de morte em relação a idade\n",
        "plt.plot(dataFrame.DEATH_EVENT)\n",
        "plt.xlabel('Tempo de acompanhamento')\n",
        "plt.ylabel('morte')\n",
        "plt.show()"
      ],
      "execution_count": 34,
      "outputs": [
        {
          "output_type": "display_data",
          "data": {
            "image/png": "[encoded data removed]",
            "text/plain": [
              "<Figure size 432x288 with 1 Axes>"
            ]
          },
          "metadata": {
            "tags": [],
            "needs_background": "light"
          }
        }
      ]
    },
    {
      "cell_type": "markdown",
      "metadata": {
        "id": "atj1MZK6mNrO",
        "colab_type": "text"
      },
      "source": [
        "O gráfico mostra a correlação das mortes dos pacientes durante o período de acompanhamento do teste"
      ]
    },
    {
      "cell_type": "code",
      "metadata": {
        "id": "XHqaxEQSqVwT",
        "colab_type": "code",
        "colab": {
          "base_uri": "https://localhost:8080/",
          "height": 295
        },
        "outputId": "24b6bcb9-f038-4b27-8c63-99d4e089058d"
      },
      "source": [
        "#plotando a correlação entre idade e pessoas diabéticas ou não\n",
        "plt.scatter(dataFrame.age, dataFrame.diabetes)\n",
        "plt.xlabel('idade')\n",
        "plt.ylabel('diabetes')\n",
        "plt.title('Correlação entre idade/diabetes')\n",
        "plt.show()"
      ],
      "execution_count": 46,
      "outputs": [
        {
          "output_type": "display_data",
          "data": {
            "image/png": "[encoded data removed]",
            "text/plain": [
              "<Figure size 432x288 with 1 Axes>"
            ]
          },
          "metadata": {
            "tags": [],
            "needs_background": "light"
          }
        }
      ]
    },
    {
      "cell_type": "code",
      "metadata": {
        "id": "BIYue_JCtD7S",
        "colab_type": "code",
        "colab": {}
      },
      "source": [
        "#calculando correlação dos dados com o atributo fumante\n",
        "smoking = dataFrame.corr()"
      ],
      "execution_count": 43,
      "outputs": []
    },
    {
      "cell_type": "code",
      "metadata": {
        "id": "3FuuxgFXt0UI",
        "colab_type": "code",
        "colab": {
          "base_uri": "https://localhost:8080/",
          "height": 389
        },
        "outputId": "094d495d-efa9-4789-9e73-cb4e7659ace9"
      },
      "source": [
        "#plotando coeficientes de correlação em um mapa de calor\n",
        "sns.heatmap(smoking,vmin=-1, vmax=1, center=0,cmap=sns.diverging_palette(20, 220, n=200))\n",
        "plt.show()"
      ],
      "execution_count": 44,
      "outputs": [
        {
          "output_type": "display_data",
          "data": {
            "image/png": "[encoded data removed]",
            "text/plain": [
              "<Figure size 432x288 with 2 Axes>"
            ]
          },
          "metadata": {
            "tags": [],
            "needs_background": "light"
          }
        }
      ]
    },
    {
      "cell_type": "markdown",
      "metadata": {
        "id": "7rvGwj4evvPz",
        "colab_type": "text"
      },
      "source": [
        "nalisando o mapa de calor podemos ver que no geral os atributos estão pouco relacionados entre si, fora algumas exceções como sexo e ser fumante.\n",
        "\n",
        "#**Re-escala dos dados**"
      ]
    },
    {
      "cell_type": "code",
      "metadata": {
        "id": "aHfCX7scl-vH",
        "colab_type": "code",
        "colab": {
          "base_uri": "https://localhost:8080/",
          "height": 224
        },
        "outputId": "982137c4-ea5e-43ef-af86-1325c140c364"
      },
      "source": [
        "dataFrame = (dataFrame - dataFrame.min())/(dataFrame.max()-dataFrame.min())\n",
        "dataFrame.head()"
      ],
      "execution_count": 47,
      "outputs": [
        {
          "output_type": "execute_result",
          "data": {
            "text/html": [
              "<div>\n",
              "<style scoped>\n",
              "    .dataframe tbody tr th:only-of-type {\n",
              "        vertical-align: middle;\n",
              "    }\n",
              "\n",
              "    .dataframe tbody tr th {\n",
              "        vertical-align: top;\n",
              "    }\n",
              "\n",
              "    .dataframe thead th {\n",
              "        text-align: right;\n",
              "    }\n",
              "</style>\n",
              "<table border=\"1\" class=\"dataframe\">\n",
              "  <thead>\n",
              "    <tr style=\"text-align: right;\">\n",
              "      <th></th>\n",
              "      <th>age</th>\n",
              "      <th>anaemia</th>\n",
              "      <th>creatinine_phosphokinase</th>\n",
              "      <th>diabetes</th>\n",
              "      <th>ejection_fraction</th>\n",
              "      <th>high_blood_pressure</th>\n",
              "      <th>platelets</th>\n",
              "      <th>serum_creatinine</th>\n",
              "      <th>serum_sodium</th>\n",
              "      <th>sex</th>\n",
              "      <th>smoking</th>\n",
              "      <th>time</th>\n",
              "      <th>DEATH_EVENT</th>\n",
              "    </tr>\n",
              "  </thead>\n",
              "  <tbody>\n",
              "    <tr>\n",
              "      <th>0</th>\n",
              "      <td>0.636364</td>\n",
              "      <td>0.0</td>\n",
              "      <td>0.071319</td>\n",
              "      <td>0.0</td>\n",
              "      <td>0.090909</td>\n",
              "      <td>1.0</td>\n",
              "      <td>0.290823</td>\n",
              "      <td>0.157303</td>\n",
              "      <td>0.485714</td>\n",
              "      <td>1.0</td>\n",
              "      <td>0.0</td>\n",
              "      <td>0.000000</td>\n",
              "      <td>1.0</td>\n",
              "    </tr>\n",
              "    <tr>\n",
              "      <th>1</th>\n",
              "      <td>0.272727</td>\n",
              "      <td>0.0</td>\n",
              "      <td>1.000000</td>\n",
              "      <td>0.0</td>\n",
              "      <td>0.363636</td>\n",
              "      <td>0.0</td>\n",
              "      <td>0.288833</td>\n",
              "      <td>0.067416</td>\n",
              "      <td>0.657143</td>\n",
              "      <td>1.0</td>\n",
              "      <td>0.0</td>\n",
              "      <td>0.007117</td>\n",
              "      <td>1.0</td>\n",
              "    </tr>\n",
              "    <tr>\n",
              "      <th>2</th>\n",
              "      <td>0.454545</td>\n",
              "      <td>0.0</td>\n",
              "      <td>0.015693</td>\n",
              "      <td>0.0</td>\n",
              "      <td>0.090909</td>\n",
              "      <td>0.0</td>\n",
              "      <td>0.165960</td>\n",
              "      <td>0.089888</td>\n",
              "      <td>0.457143</td>\n",
              "      <td>1.0</td>\n",
              "      <td>1.0</td>\n",
              "      <td>0.010676</td>\n",
              "      <td>1.0</td>\n",
              "    </tr>\n",
              "    <tr>\n",
              "      <th>3</th>\n",
              "      <td>0.181818</td>\n",
              "      <td>1.0</td>\n",
              "      <td>0.011227</td>\n",
              "      <td>0.0</td>\n",
              "      <td>0.090909</td>\n",
              "      <td>0.0</td>\n",
              "      <td>0.224148</td>\n",
              "      <td>0.157303</td>\n",
              "      <td>0.685714</td>\n",
              "      <td>1.0</td>\n",
              "      <td>0.0</td>\n",
              "      <td>0.010676</td>\n",
              "      <td>1.0</td>\n",
              "    </tr>\n",
              "    <tr>\n",
              "      <th>4</th>\n",
              "      <td>0.454545</td>\n",
              "      <td>1.0</td>\n",
              "      <td>0.017479</td>\n",
              "      <td>1.0</td>\n",
              "      <td>0.090909</td>\n",
              "      <td>0.0</td>\n",
              "      <td>0.365984</td>\n",
              "      <td>0.247191</td>\n",
              "      <td>0.085714</td>\n",
              "      <td>0.0</td>\n",
              "      <td>0.0</td>\n",
              "      <td>0.014235</td>\n",
              "      <td>1.0</td>\n",
              "    </tr>\n",
              "  </tbody>\n",
              "</table>\n",
              "</div>"
            ],
            "text/plain": [
              "        age  anaemia  creatinine_phosphokinase  ...  smoking      time  DEATH_EVENT\n",
              "0  0.636364      0.0                  0.071319  ...      0.0  0.000000          1.0\n",
              "1  0.272727      0.0                  1.000000  ...      0.0  0.007117          1.0\n",
              "2  0.454545      0.0                  0.015693  ...      1.0  0.010676          1.0\n",
              "3  0.181818      1.0                  0.011227  ...      0.0  0.010676          1.0\n",
              "4  0.454545      1.0                  0.017479  ...      0.0  0.014235          1.0\n",
              "\n",
              "[5 rows x 13 columns]"
            ]
          },
          "metadata": {
            "tags": []
          },
          "execution_count": 47
        }
      ]
    },
    {
      "cell_type": "code",
      "metadata": {
        "id": "Pr45h0kFwI4A",
        "colab_type": "code",
        "colab": {
          "base_uri": "https://localhost:8080/",
          "height": 224
        },
        "outputId": "a68dab24-1981-49a9-e686-7b874d7f4056"
      },
      "source": [
        "#dividindo dados em atributos descritores e atributo de classe\n",
        "X = dataFrame.drop(columns=['smoking'])\n",
        "X.head()"
      ],
      "execution_count": 49,
      "outputs": [
        {
          "output_type": "execute_result",
          "data": {
            "text/html": [
              "<div>\n",
              "<style scoped>\n",
              "    .dataframe tbody tr th:only-of-type {\n",
              "        vertical-align: middle;\n",
              "    }\n",
              "\n",
              "    .dataframe tbody tr th {\n",
              "        vertical-align: top;\n",
              "    }\n",
              "\n",
              "    .dataframe thead th {\n",
              "        text-align: right;\n",
              "    }\n",
              "</style>\n",
              "<table border=\"1\" class=\"dataframe\">\n",
              "  <thead>\n",
              "    <tr style=\"text-align: right;\">\n",
              "      <th></th>\n",
              "      <th>age</th>\n",
              "      <th>anaemia</th>\n",
              "      <th>creatinine_phosphokinase</th>\n",
              "      <th>diabetes</th>\n",
              "      <th>ejection_fraction</th>\n",
              "      <th>high_blood_pressure</th>\n",
              "      <th>platelets</th>\n",
              "      <th>serum_creatinine</th>\n",
              "      <th>serum_sodium</th>\n",
              "      <th>sex</th>\n",
              "      <th>time</th>\n",
              "      <th>DEATH_EVENT</th>\n",
              "    </tr>\n",
              "  </thead>\n",
              "  <tbody>\n",
              "    <tr>\n",
              "      <th>0</th>\n",
              "      <td>0.636364</td>\n",
              "      <td>0.0</td>\n",
              "      <td>0.071319</td>\n",
              "      <td>0.0</td>\n",
              "      <td>0.090909</td>\n",
              "      <td>1.0</td>\n",
              "      <td>0.290823</td>\n",
              "      <td>0.157303</td>\n",
              "      <td>0.485714</td>\n",
              "      <td>1.0</td>\n",
              "      <td>0.000000</td>\n",
              "      <td>1.0</td>\n",
              "    </tr>\n",
              "    <tr>\n",
              "      <th>1</th>\n",
              "      <td>0.272727</td>\n",
              "      <td>0.0</td>\n",
              "      <td>1.000000</td>\n",
              "      <td>0.0</td>\n",
              "      <td>0.363636</td>\n",
              "      <td>0.0</td>\n",
              "      <td>0.288833</td>\n",
              "      <td>0.067416</td>\n",
              "      <td>0.657143</td>\n",
              "      <td>1.0</td>\n",
              "      <td>0.007117</td>\n",
              "      <td>1.0</td>\n",
              "    </tr>\n",
              "    <tr>\n",
              "      <th>2</th>\n",
              "      <td>0.454545</td>\n",
              "      <td>0.0</td>\n",
              "      <td>0.015693</td>\n",
              "      <td>0.0</td>\n",
              "      <td>0.090909</td>\n",
              "      <td>0.0</td>\n",
              "      <td>0.165960</td>\n",
              "      <td>0.089888</td>\n",
              "      <td>0.457143</td>\n",
              "      <td>1.0</td>\n",
              "      <td>0.010676</td>\n",
              "      <td>1.0</td>\n",
              "    </tr>\n",
              "    <tr>\n",
              "      <th>3</th>\n",
              "      <td>0.181818</td>\n",
              "      <td>1.0</td>\n",
              "      <td>0.011227</td>\n",
              "      <td>0.0</td>\n",
              "      <td>0.090909</td>\n",
              "      <td>0.0</td>\n",
              "      <td>0.224148</td>\n",
              "      <td>0.157303</td>\n",
              "      <td>0.685714</td>\n",
              "      <td>1.0</td>\n",
              "      <td>0.010676</td>\n",
              "      <td>1.0</td>\n",
              "    </tr>\n",
              "    <tr>\n",
              "      <th>4</th>\n",
              "      <td>0.454545</td>\n",
              "      <td>1.0</td>\n",
              "      <td>0.017479</td>\n",
              "      <td>1.0</td>\n",
              "      <td>0.090909</td>\n",
              "      <td>0.0</td>\n",
              "      <td>0.365984</td>\n",
              "      <td>0.247191</td>\n",
              "      <td>0.085714</td>\n",
              "      <td>0.0</td>\n",
              "      <td>0.014235</td>\n",
              "      <td>1.0</td>\n",
              "    </tr>\n",
              "  </tbody>\n",
              "</table>\n",
              "</div>"
            ],
            "text/plain": [
              "        age  anaemia  creatinine_phosphokinase  ...  sex      time  DEATH_EVENT\n",
              "0  0.636364      0.0                  0.071319  ...  1.0  0.000000          1.0\n",
              "1  0.272727      0.0                  1.000000  ...  1.0  0.007117          1.0\n",
              "2  0.454545      0.0                  0.015693  ...  1.0  0.010676          1.0\n",
              "3  0.181818      1.0                  0.011227  ...  1.0  0.010676          1.0\n",
              "4  0.454545      1.0                  0.017479  ...  0.0  0.014235          1.0\n",
              "\n",
              "[5 rows x 12 columns]"
            ]
          },
          "metadata": {
            "tags": []
          },
          "execution_count": 49
        }
      ]
    },
    {
      "cell_type": "code",
      "metadata": {
        "id": "KWUB4YZowfqU",
        "colab_type": "code",
        "colab": {
          "base_uri": "https://localhost:8080/",
          "height": 119
        },
        "outputId": "2f616c3a-e7c9-4a0b-c7d5-16396e48bee8"
      },
      "source": [
        "Y = dataFrame.smoking\n",
        "Y.head()"
      ],
      "execution_count": 51,
      "outputs": [
        {
          "output_type": "execute_result",
          "data": {
            "text/plain": [
              "0    0.0\n",
              "1    0.0\n",
              "2    1.0\n",
              "3    0.0\n",
              "4    0.0\n",
              "Name: smoking, dtype: float64"
            ]
          },
          "metadata": {
            "tags": []
          },
          "execution_count": 51
        }
      ]
    },
    {
      "cell_type": "code",
      "metadata": {
        "id": "si8HaQjNw2ik",
        "colab_type": "code",
        "colab": {}
      },
      "source": [
        "from sklearn.model_selection import train_test_split\n",
        "X_train, X_test, Y_train, Y_test = train_test_split(X,Y, test_size=0.2)"
      ],
      "execution_count": 54,
      "outputs": []
    },
    {
      "cell_type": "markdown",
      "metadata": {
        "id": "4T8ji9eF1aih",
        "colab_type": "text"
      },
      "source": [
        "# **Treinando os modelos e fazendo previsões**"
      ]
    },
    {
      "cell_type": "code",
      "metadata": {
        "id": "_T2Q4VO31jD0",
        "colab_type": "code",
        "colab": {}
      },
      "source": [
        "#definindo modelo de regressão linear\n",
        "linear = LinearRegression()\n",
        "linear.fit(X_train,Y_train)\n",
        "pred_linear = linear.predict(X_test)"
      ],
      "execution_count": 55,
      "outputs": []
    },
    {
      "cell_type": "code",
      "metadata": {
        "id": "eHaCkgpN1nBb",
        "colab_type": "code",
        "colab": {
          "base_uri": "https://localhost:8080/",
          "height": 281
        },
        "outputId": "fa2030b7-13be-4ab0-88eb-0284eacb741e"
      },
      "source": [
        "#plotando resultados da MLP\n",
        "plt.plot(Y_test.reset_index(drop=True),label='real')\n",
        "plt.plot(pred_linear,label='linear')\n",
        "plt.legend()\n",
        "plt.title('Previsão com regressão linear')\n",
        "plt.show()"
      ],
      "execution_count": 57,
      "outputs": [
        {
          "output_type": "display_data",
          "data": {
            "image/png": "[encoded data removed]",
            "text/plain": [
              "<Figure size 432x288 with 1 Axes>"
            ]
          },
          "metadata": {
            "tags": [],
            "needs_background": "light"
          }
        }
      ]
    },
    {
      "cell_type": "code",
      "metadata": {
        "id": "4CMeNgMR2WUt",
        "colab_type": "code",
        "colab": {}
      },
      "source": [
        "#definindo modelo de árvore de decisão\n",
        "arvore = DecisionTreeRegressor()\n",
        "arvore.fit(X_train,Y_train)\n",
        "pred_arvore = arvore.predict(X_test)"
      ],
      "execution_count": 58,
      "outputs": []
    },
    {
      "cell_type": "code",
      "metadata": {
        "id": "ZjSLHn-w2g_o",
        "colab_type": "code",
        "colab": {
          "base_uri": "https://localhost:8080/",
          "height": 281
        },
        "outputId": "e6370570-2f11-454b-cbd7-385b780aa322"
      },
      "source": [
        "#plotando resultados da árvore de decisão\n",
        "plt.plot(Y_test.reset_index(drop=True),label='real')\n",
        "plt.plot(pred_arvore,label='arvore')\n",
        "plt.legend()\n",
        "plt.title('Previsão com árvore de decisão')\n",
        "plt.show()"
      ],
      "execution_count": 59,
      "outputs": [
        {
          "output_type": "display_data",
          "data": {
            "image/png": "[encoded data removed]",
            "text/plain": [
              "<Figure size 432x288 with 1 Axes>"
            ]
          },
          "metadata": {
            "tags": [],
            "needs_background": "light"
          }
        }
      ]
    },
    {
      "cell_type": "code",
      "metadata": {
        "id": "hJu_8fwD28k2",
        "colab_type": "code",
        "colab": {}
      },
      "source": [
        "#definindo modelo de random forest\n",
        "floresta = RandomForestRegressor(n_estimators=100)\n",
        "floresta.fit(X_train,Y_train)\n",
        "pred_floresta = floresta.predict(X_test)"
      ],
      "execution_count": 63,
      "outputs": []
    },
    {
      "cell_type": "code",
      "metadata": {
        "id": "sYKYhzfF2_EY",
        "colab_type": "code",
        "colab": {
          "base_uri": "https://localhost:8080/",
          "height": 281
        },
        "outputId": "24a03fa0-b8b3-4a52-9578-f539f3b5294c"
      },
      "source": [
        "#plotando resultados da random forest\n",
        "plt.plot(Y_test.reset_index(drop=True),label='real')\n",
        "plt.plot(pred_floresta,label='floresta')\n",
        "plt.legend()\n",
        "plt.title('Previsão com random forest')\n",
        "plt.show()"
      ],
      "execution_count": 64,
      "outputs": [
        {
          "output_type": "display_data",
          "data": {
            "image/png": "[encoded data removed]",
            "text/plain": [
              "<Figure size 432x288 with 1 Axes>"
            ]
          },
          "metadata": {
            "tags": [],
            "needs_background": "light"
          }
        }
      ]
    },
    {
      "cell_type": "code",
      "metadata": {
        "id": "MYmS_yJP3Dcu",
        "colab_type": "code",
        "colab": {}
      },
      "source": [
        "#define modelo MLP\n",
        "mlp = MLPRegressor(hidden_layer_sizes=(200,50),activation='logistic',max_iter=1000)\n",
        "mlp.fit(X_train,Y_train)\n",
        "pred_mlp = mlp.predict(X_test)"
      ],
      "execution_count": 65,
      "outputs": []
    },
    {
      "cell_type": "code",
      "metadata": {
        "id": "zWx4qv6l3GLd",
        "colab_type": "code",
        "colab": {
          "base_uri": "https://localhost:8080/",
          "height": 281
        },
        "outputId": "5c7287c0-78d4-4429-de21-b341233932a8"
      },
      "source": [
        "#plotando resultados da MLP\n",
        "plt.plot(Y_test.reset_index(drop=True),label='real')\n",
        "plt.plot(pred_mlp,label='mlp')\n",
        "plt.legend()\n",
        "plt.title('Previsão com MLP')\n",
        "plt.show()"
      ],
      "execution_count": 66,
      "outputs": [
        {
          "output_type": "display_data",
          "data": {
            "image/png": "[encoded data removed]",
            "text/plain": [
              "<Figure size 432x288 with 1 Axes>"
            ]
          },
          "metadata": {
            "tags": [],
            "needs_background": "light"
          }
        }
      ]
    },
    {
      "cell_type": "markdown",
      "metadata": {
        "id": "PIulUtiC3e4-",
        "colab_type": "text"
      },
      "source": [
        "Com a visualização dos gráficos fica bem mais fácil ver que a árvore de decisão foi a que mais se aproximou dos valores reais reais ficando a frente até mesmo da random forest. A mlp e a regressão linear foram a que menos se aproximaram dos valores reais. "
      ]
    },
    {
      "cell_type": "markdown",
      "metadata": {
        "id": "QmiHk5Lc4rIp",
        "colab_type": "text"
      },
      "source": [
        "# **Avaliando os Modelos**"
      ]
    },
    {
      "cell_type": "markdown",
      "metadata": {
        "id": "k-oi-Emt5Z1S",
        "colab_type": "text"
      },
      "source": [
        "## **Mean Absolut Error(MAE)**"
      ]
    },
    {
      "cell_type": "code",
      "metadata": {
        "id": "CtbwGRtO4bp9",
        "colab_type": "code",
        "colab": {}
      },
      "source": [
        "from sklearn.metrics import mean_absolute_error"
      ],
      "execution_count": 67,
      "outputs": []
    },
    {
      "cell_type": "code",
      "metadata": {
        "id": "ejSn6ET54-hS",
        "colab_type": "code",
        "colab": {
          "base_uri": "https://localhost:8080/",
          "height": 34
        },
        "outputId": "32f5596e-7a17-4e92-ae1b-9e80173bb463"
      },
      "source": [
        "#Mae Árvore\n",
        "mean_absolute_error(Y_test,pred_linear)"
      ],
      "execution_count": 68,
      "outputs": [
        {
          "output_type": "execute_result",
          "data": {
            "text/plain": [
              "0.4145681345338389"
            ]
          },
          "metadata": {
            "tags": []
          },
          "execution_count": 68
        }
      ]
    },
    {
      "cell_type": "code",
      "metadata": {
        "id": "kcZeU1T_4_LJ",
        "colab_type": "code",
        "colab": {
          "base_uri": "https://localhost:8080/",
          "height": 34
        },
        "outputId": "85eb3341-5a95-4885-9e2c-a604ccd3fc87"
      },
      "source": [
        "#Mae Árvore\n",
        "mean_absolute_error(Y_test,pred_arvore)"
      ],
      "execution_count": 69,
      "outputs": [
        {
          "output_type": "execute_result",
          "data": {
            "text/plain": [
              "0.4"
            ]
          },
          "metadata": {
            "tags": []
          },
          "execution_count": 69
        }
      ]
    },
    {
      "cell_type": "code",
      "metadata": {
        "id": "LbJCAE7V4_tZ",
        "colab_type": "code",
        "colab": {
          "base_uri": "https://localhost:8080/",
          "height": 34
        },
        "outputId": "6c60b2c7-2371-478f-8ac3-49e2a103dbda"
      },
      "source": [
        "#Mae Random Forest\n",
        "mean_absolute_error(Y_test,pred_floresta)"
      ],
      "execution_count": 70,
      "outputs": [
        {
          "output_type": "execute_result",
          "data": {
            "text/plain": [
              "0.3869999999999999"
            ]
          },
          "metadata": {
            "tags": []
          },
          "execution_count": 70
        }
      ]
    },
    {
      "cell_type": "code",
      "metadata": {
        "id": "EXdcsMCs4_Yi",
        "colab_type": "code",
        "colab": {
          "base_uri": "https://localhost:8080/",
          "height": 34
        },
        "outputId": "a7e0c465-3e7a-46a6-dc37-7e1c33ca0663"
      },
      "source": [
        "#Mae MLP\n",
        "mean_absolute_error(Y_test,pred_mlp)"
      ],
      "execution_count": 71,
      "outputs": [
        {
          "output_type": "execute_result",
          "data": {
            "text/plain": [
              "0.40785035425287025"
            ]
          },
          "metadata": {
            "tags": []
          },
          "execution_count": 71
        }
      ]
    },
    {
      "cell_type": "markdown",
      "metadata": {
        "id": "CAaLOtr_5NRS",
        "colab_type": "text"
      },
      "source": [
        "### **Mean Squared Error (MSE)**"
      ]
    },
    {
      "cell_type": "code",
      "metadata": {
        "id": "Z6n30kTA4_A5",
        "colab_type": "code",
        "colab": {}
      },
      "source": [
        "from sklearn.metrics import mean_squared_error"
      ],
      "execution_count": 72,
      "outputs": []
    },
    {
      "cell_type": "code",
      "metadata": {
        "id": "pCCFb7xB4-QZ",
        "colab_type": "code",
        "colab": {
          "base_uri": "https://localhost:8080/",
          "height": 34
        },
        "outputId": "5012f9d0-dfac-4029-a7e7-3cbe3629ae6d"
      },
      "source": [
        "mean_squared_error(Y_test,pred_linear)"
      ],
      "execution_count": 73,
      "outputs": [
        {
          "output_type": "execute_result",
          "data": {
            "text/plain": [
              "0.23531488544499615"
            ]
          },
          "metadata": {
            "tags": []
          },
          "execution_count": 73
        }
      ]
    },
    {
      "cell_type": "code",
      "metadata": {
        "id": "XLmKRSAO5o7D",
        "colab_type": "code",
        "colab": {
          "base_uri": "https://localhost:8080/",
          "height": 34
        },
        "outputId": "1c16ddff-4acc-4d0c-cae0-a80820b47ff1"
      },
      "source": [
        "mean_squared_error(Y_test,pred_arvore)"
      ],
      "execution_count": 74,
      "outputs": [
        {
          "output_type": "execute_result",
          "data": {
            "text/plain": [
              "0.4"
            ]
          },
          "metadata": {
            "tags": []
          },
          "execution_count": 74
        }
      ]
    },
    {
      "cell_type": "code",
      "metadata": {
        "id": "0KJA4Q3G5pS6",
        "colab_type": "code",
        "colab": {
          "base_uri": "https://localhost:8080/",
          "height": 34
        },
        "outputId": "6f817749-de10-4307-c606-e5ceffaf1ce0"
      },
      "source": [
        "mean_squared_error(Y_test,pred_floresta)\n"
      ],
      "execution_count": 75,
      "outputs": [
        {
          "output_type": "execute_result",
          "data": {
            "text/plain": [
              "0.2309866666666667"
            ]
          },
          "metadata": {
            "tags": []
          },
          "execution_count": 75
        }
      ]
    },
    {
      "cell_type": "code",
      "metadata": {
        "id": "tnwW2RNw5t2z",
        "colab_type": "code",
        "colab": {
          "base_uri": "https://localhost:8080/",
          "height": 34
        },
        "outputId": "17d029fa-f862-4d83-a39a-c8a751ff9fa1"
      },
      "source": [
        "mean_squared_error(Y_test,pred_mlp)\n"
      ],
      "execution_count": 76,
      "outputs": [
        {
          "output_type": "execute_result",
          "data": {
            "text/plain": [
              "0.22342116074504087"
            ]
          },
          "metadata": {
            "tags": []
          },
          "execution_count": 76
        }
      ]
    },
    {
      "cell_type": "markdown",
      "metadata": {
        "id": "TjTCPPHL6ZVM",
        "colab_type": "text"
      },
      "source": [
        "##**Root Mean Squared Error(RMSE)**"
      ]
    },
    {
      "cell_type": "code",
      "metadata": {
        "id": "HZfPXNg06Zvz",
        "colab_type": "code",
        "colab": {
          "base_uri": "https://localhost:8080/",
          "height": 34
        },
        "outputId": "8926eefd-42f0-40d0-e394-b45cbee29890"
      },
      "source": [
        "mean_squared_error(Y_test,pred_linear)**(1/2)"
      ],
      "execution_count": 81,
      "outputs": [
        {
          "output_type": "execute_result",
          "data": {
            "text/plain": [
              "0.4850926565564523"
            ]
          },
          "metadata": {
            "tags": []
          },
          "execution_count": 81
        }
      ]
    },
    {
      "cell_type": "code",
      "metadata": {
        "id": "cVg7lCBF6eT8",
        "colab_type": "code",
        "colab": {
          "base_uri": "https://localhost:8080/",
          "height": 34
        },
        "outputId": "ad94a36e-fd6d-403a-9da5-bb59728897e3"
      },
      "source": [
        "mean_squared_error(Y_test,pred_arvore)**(1/2)"
      ],
      "execution_count": 82,
      "outputs": [
        {
          "output_type": "execute_result",
          "data": {
            "text/plain": [
              "0.6324555320336759"
            ]
          },
          "metadata": {
            "tags": []
          },
          "execution_count": 82
        }
      ]
    },
    {
      "cell_type": "code",
      "metadata": {
        "id": "fTTaxkhL6gn0",
        "colab_type": "code",
        "colab": {
          "base_uri": "https://localhost:8080/",
          "height": 34
        },
        "outputId": "cb906a5b-4bd1-40e7-c86c-dfa54dd4a195"
      },
      "source": [
        "mean_squared_error(Y_test,pred_floresta)**(1/2)"
      ],
      "execution_count": 83,
      "outputs": [
        {
          "output_type": "execute_result",
          "data": {
            "text/plain": [
              "0.48061072258811155"
            ]
          },
          "metadata": {
            "tags": []
          },
          "execution_count": 83
        }
      ]
    },
    {
      "cell_type": "code",
      "metadata": {
        "id": "mXABPUhn6iIY",
        "colab_type": "code",
        "colab": {
          "base_uri": "https://localhost:8080/",
          "height": 34
        },
        "outputId": "7a2575ed-bdea-4b8c-ab72-543d92941fae"
      },
      "source": [
        "mean_squared_error(Y_test,pred_mlp)**(1/2)"
      ],
      "execution_count": 84,
      "outputs": [
        {
          "output_type": "execute_result",
          "data": {
            "text/plain": [
              "0.47267447651109834"
            ]
          },
          "metadata": {
            "tags": []
          },
          "execution_count": 84
        }
      ]
    },
    {
      "cell_type": "markdown",
      "metadata": {
        "id": "TMP4e0lo7Ow9",
        "colab_type": "text"
      },
      "source": [
        "Diferentemente das atividades anteriores onde a random forest sempre alcanssava os melhores resultados, podemos ver que na avaliação dos modelos que a árvore de decisões esteve sempre a frente das demais. E que as outras métricas obtiveram resultados muito próximos uma das outras."
      ]
    }
  ]
}