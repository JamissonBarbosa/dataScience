{
  "nbformat": 4,
  "nbformat_minor": 0,
  "metadata": {
    "colab": {
      "name": "Atividade06.ipynb",
      "provenance": [],
      "collapsed_sections": []
    },
    "kernelspec": {
      "name": "python3",
      "display_name": "Python 3"
    }
  },
  "cells": [
    {
      "cell_type": "markdown",
      "metadata": {
        "id": "yfs2143a4kRk"
      },
      "source": [
        "**Registro Clínicos de insuficiência cardiáca**\n",
        "\n",
        "\n",
        "\n",
        "*  data set contém um conjunto de características \n",
        "\n",
        "  que podem ser usadas para prever a mortalidade por\n",
        "\n",
        "  insuficiência cardíaca.\n",
        "\n",
        "\n",
        "\n",
        "\n",
        "\n"
      ]
    },
    {
      "cell_type": "code",
      "metadata": {
        "id": "Q5cQE9a3-k00"
      },
      "source": [
        "#importando Bibliotecas \n",
        "import tensorflow as tf\n",
        "from tensorflow import keras\n",
        "\n",
        "#bibliotecas auxiliares\n",
        "import numpy as np\n",
        "import matplotlib.pyplot as plt\n"
      ],
      "execution_count": 2,
      "outputs": []
    },
    {
      "cell_type": "code",
      "metadata": {
        "id": "z-uT-OYpbAM3"
      },
      "source": [
        "#importando base de dados\n",
        "fashion_mnist = keras.datasets.fashion_mnist"
      ],
      "execution_count": 3,
      "outputs": []
    },
    {
      "cell_type": "markdown",
      "metadata": {
        "id": "_DMH51S-hNao"
      },
      "source": [
        "#**Organizando base de dados**"
      ]
    },
    {
      "cell_type": "code",
      "metadata": {
        "id": "7NVvfrtbgLuJ",
        "outputId": "ea3ea59f-38a5-43c1-ecb2-777462f41b38",
        "colab": {
          "base_uri": "https://localhost:8080/",
          "height": 173
        }
      },
      "source": [
        "\n",
        "(train_images, train_labels), (test_images, test_labels) = fashion_mnist.load_data()\n"
      ],
      "execution_count": 5,
      "outputs": [
        {
          "output_type": "stream",
          "text": [
            "Downloading data from https://storage.googleapis.com/tensorflow/tf-keras-datasets/train-labels-idx1-ubyte.gz\n",
            "32768/29515 [=================================] - 0s 0us/step\n",
            "Downloading data from https://storage.googleapis.com/tensorflow/tf-keras-datasets/train-images-idx3-ubyte.gz\n",
            "26427392/26421880 [==============================] - 1s 0us/step\n",
            "Downloading data from https://storage.googleapis.com/tensorflow/tf-keras-datasets/t10k-labels-idx1-ubyte.gz\n",
            "8192/5148 [===============================================] - 0s 0us/step\n",
            "Downloading data from https://storage.googleapis.com/tensorflow/tf-keras-datasets/t10k-images-idx3-ubyte.gz\n",
            "4423680/4422102 [==============================] - 0s 0us/step\n"
          ],
          "name": "stdout"
        }
      ]
    },
    {
      "cell_type": "markdown",
      "metadata": {
        "id": "YCvuAY9QhUMv"
      },
      "source": [
        " \n",
        "\n",
        "*   Os arrays train_images e train_labels são o conjunto de treinamento: os dados do modelo usado para aprender\n",
        "*   O modelo é testado com o conjunto de teste, os arrays test_images e test_labels\n",
        "\n",
        "\n",
        "\n"
      ]
    },
    {
      "cell_type": "code",
      "metadata": {
        "id": "eTB0HSMPoo1G",
        "outputId": "53535ba3-d22b-4e45-8049-552047216cae",
        "colab": {
          "base_uri": "https://localhost:8080/",
          "height": 34
        }
      },
      "source": [
        "train_images.shape"
      ],
      "execution_count": 6,
      "outputs": [
        {
          "output_type": "execute_result",
          "data": {
            "text/plain": [
              "(60000, 28, 28)"
            ]
          },
          "metadata": {
            "tags": []
          },
          "execution_count": 6
        }
      ]
    },
    {
      "cell_type": "markdown",
      "metadata": {
        "id": "r99FMkCAoxPj"
      },
      "source": [
        "Com o comando shape podemos ver que existem 60000 imagens no conjunto de treinameto, e cada imagem é representada em 28 x 28 pixels."
      ]
    },
    {
      "cell_type": "code",
      "metadata": {
        "id": "IFZ9msLRpKsG",
        "outputId": "c9427bf4-6b40-4461-f442-f8188b597ee1",
        "colab": {
          "base_uri": "https://localhost:8080/",
          "height": 34
        }
      },
      "source": [
        "len(train_labels)\n"
      ],
      "execution_count": 7,
      "outputs": [
        {
          "output_type": "execute_result",
          "data": {
            "text/plain": [
              "60000"
            ]
          },
          "metadata": {
            "tags": []
          },
          "execution_count": 7
        }
      ]
    },
    {
      "cell_type": "code",
      "metadata": {
        "id": "1l6-fK_kp8dh",
        "outputId": "898e7e24-7810-4d45-9d03-3edd1a08e16a",
        "colab": {
          "base_uri": "https://localhost:8080/",
          "height": 34
        }
      },
      "source": [
        "train_labels"
      ],
      "execution_count": 8,
      "outputs": [
        {
          "output_type": "execute_result",
          "data": {
            "text/plain": [
              "array([9, 0, 0, ..., 3, 0, 5], dtype=uint8)"
            ]
          },
          "metadata": {
            "tags": []
          },
          "execution_count": 8
        }
      ]
    },
    {
      "cell_type": "markdown",
      "metadata": {
        "id": "YT_rBrYcpYcN"
      },
      "source": [
        "existem 60000 labels no conjunto de treinamento, cada label é um inteiro de 0 á 9"
      ]
    },
    {
      "cell_type": "code",
      "metadata": {
        "id": "NS2vojUEp9sa",
        "outputId": "9337b68a-a467-422a-e45a-96e395f7ebe5",
        "colab": {
          "base_uri": "https://localhost:8080/",
          "height": 34
        }
      },
      "source": [
        "test_images.shape"
      ],
      "execution_count": 9,
      "outputs": [
        {
          "output_type": "execute_result",
          "data": {
            "text/plain": [
              "(10000, 28, 28)"
            ]
          },
          "metadata": {
            "tags": []
          },
          "execution_count": 9
        }
      ]
    },
    {
      "cell_type": "markdown",
      "metadata": {
        "id": "oPOhzjr5qFaZ"
      },
      "source": [
        "Existem 10000 imagens no conjnto de teste, cada imagem é representada por 28 x 28 pixels"
      ]
    },
    {
      "cell_type": "code",
      "metadata": {
        "id": "eJ5PUHU5qAGJ",
        "outputId": "39e9075c-7a46-46ed-c59c-19ec4a1b765f",
        "colab": {
          "base_uri": "https://localhost:8080/",
          "height": 34
        }
      },
      "source": [
        "len(test_labels)"
      ],
      "execution_count": 10,
      "outputs": [
        {
          "output_type": "execute_result",
          "data": {
            "text/plain": [
              "10000"
            ]
          },
          "metadata": {
            "tags": []
          },
          "execution_count": 10
        }
      ]
    },
    {
      "cell_type": "markdown",
      "metadata": {
        "id": "W3cFfBBQqOnq"
      },
      "source": [
        "No conjunto de teste contem 10000 labels das imagens"
      ]
    },
    {
      "cell_type": "markdown",
      "metadata": {
        "id": "BbjcbjqOqhhA"
      },
      "source": [
        "#**Re-escala dos Dados**"
      ]
    },
    {
      "cell_type": "code",
      "metadata": {
        "id": "_aSDDEgMqSZo",
        "outputId": "50559819-12bf-49ce-9d55-14f03cdf155c",
        "colab": {
          "base_uri": "https://localhost:8080/",
          "height": 265
        }
      },
      "source": [
        "plt.figure()\n",
        "plt.imshow(train_images[0])\n",
        "plt.colorbar()\n",
        "plt.grid(False)\n",
        "plt.show()"
      ],
      "execution_count": 11,
      "outputs": [
        {
          "output_type": "display_data",
          "data": {
            "image/png": "[encoded data removed]",
            "text/plain": [
              "<Figure size 432x288 with 2 Axes>"
            ]
          },
          "metadata": {
            "tags": [],
            "needs_background": "light"
          }
        }
      ]
    },
    {
      "cell_type": "markdown",
      "metadata": {
        "id": "Pls2R3h4q96_"
      },
      "source": [
        "Exibindo a primeira imagem do conjunto de treinamento podemos ver que os valores dos pixels estão divididos entre 0 e 255"
      ]
    },
    {
      "cell_type": "code",
      "metadata": {
        "id": "o5RRBhSPrR43"
      },
      "source": [
        "train_images = train_images / 255.0\n",
        "\n",
        "test_images = test_images / 255.0\n"
      ],
      "execution_count": 12,
      "outputs": []
    },
    {
      "cell_type": "markdown",
      "metadata": {
        "id": "478yGkLTrajv"
      },
      "source": [
        "Escalonaremos esse valores entre 1 e 0 dividindo os valores por 255, tanto o conjunto de teste como o treinamento."
      ]
    },
    {
      "cell_type": "markdown",
      "metadata": {
        "id": "Puzce3WruapB"
      },
      "source": [
        "#**Definindo o CNN**\n",
        "\n",
        "* Para construir o modelo requer configurar as camadas do modelo, e depois compilar o modelo."
      ]
    },
    {
      "cell_type": "code",
      "metadata": {
        "id": "Q2nalF0eugDE"
      },
      "source": [
        "model = keras.Sequential([\n",
        "    keras.layers.Flatten(input_shape=(28, 28)),\n",
        "    keras.layers.Dense(128, activation='relu'),\n",
        "    keras.layers.Dense(10, activation='softmax')\n",
        "])"
      ],
      "execution_count": 13,
      "outputs": []
    },
    {
      "cell_type": "markdown",
      "metadata": {
        "id": "I0NZphaxvAgK"
      },
      "source": [
        "* A primeira camada transforma para um array de uma dimensão\n",
        "* A segunda camda tem 128 nós\n",
        "* Terceira camada retorna um array com 10 probabilidades"
      ]
    },
    {
      "cell_type": "code",
      "metadata": {
        "id": "N7ZYcqBRv5e0"
      },
      "source": [
        "model.compile(optimizer='adam',\n",
        "              loss='sparse_categorical_crossentropy',\n",
        "              metrics=['accuracy'])"
      ],
      "execution_count": 14,
      "outputs": []
    },
    {
      "cell_type": "markdown",
      "metadata": {
        "id": "y7OdwFbEyls8"
      },
      "source": [
        "* Função Loss mede quão precisa o modelo é durante o treinamento.\n",
        "\n",
        "* Optimizer é como o modelo se atualiza com base no dado que ele vê na função loss.\n",
        "\n",
        "* Métrics é usadas para monitorar os passos de treinamento e teste. "
      ]
    },
    {
      "cell_type": "markdown",
      "metadata": {
        "id": "iw0ZiO2d2ENh"
      },
      "source": [
        "# **Treinando o modelo**\n",
        "\n",
        "* Treinando o modelo com o método model.fit"
      ]
    },
    {
      "cell_type": "code",
      "metadata": {
        "id": "Zv9MppPDzLu3",
        "outputId": "a1f80a5e-7c87-4c7f-d019-eb0a77f1010d",
        "colab": {
          "base_uri": "https://localhost:8080/",
          "height": 374
        }
      },
      "source": [
        "model.fit(train_images, train_labels, epochs=10)"
      ],
      "execution_count": 15,
      "outputs": [
        {
          "output_type": "stream",
          "text": [
            "Epoch 1/10\n",
            "1875/1875 [==============================] - 3s 2ms/step - loss: 0.4995 - accuracy: 0.8252\n",
            "Epoch 2/10\n",
            "1875/1875 [==============================] - 3s 2ms/step - loss: 0.3756 - accuracy: 0.8653\n",
            "Epoch 3/10\n",
            "1875/1875 [==============================] - 3s 2ms/step - loss: 0.3378 - accuracy: 0.8763\n",
            "Epoch 4/10\n",
            "1875/1875 [==============================] - 3s 2ms/step - loss: 0.3142 - accuracy: 0.8852\n",
            "Epoch 5/10\n",
            "1875/1875 [==============================] - 3s 2ms/step - loss: 0.2960 - accuracy: 0.8903\n",
            "Epoch 6/10\n",
            "1875/1875 [==============================] - 3s 2ms/step - loss: 0.2823 - accuracy: 0.8964\n",
            "Epoch 7/10\n",
            "1875/1875 [==============================] - 3s 2ms/step - loss: 0.2685 - accuracy: 0.8998\n",
            "Epoch 8/10\n",
            "1875/1875 [==============================] - 3s 2ms/step - loss: 0.2577 - accuracy: 0.9038\n",
            "Epoch 9/10\n",
            "1875/1875 [==============================] - 3s 2ms/step - loss: 0.2477 - accuracy: 0.9081\n",
            "Epoch 10/10\n",
            "1875/1875 [==============================] - 3s 2ms/step - loss: 0.2387 - accuracy: 0.9112\n"
          ],
          "name": "stdout"
        },
        {
          "output_type": "execute_result",
          "data": {
            "text/plain": [
              "<tensorflow.python.keras.callbacks.History at 0x7fa070777cc0>"
            ]
          },
          "metadata": {
            "tags": []
          },
          "execution_count": 15
        }
      ]
    },
    {
      "cell_type": "markdown",
      "metadata": {
        "id": "XmJuNpV93k6l"
      },
      "source": [
        "À medida que o modelo treina, as métricas loss e acurácia são mostradas.\n",
        "\n",
        "###**Avaliando a Acurácia**"
      ]
    },
    {
      "cell_type": "code",
      "metadata": {
        "id": "oFTK-wpf1m4a",
        "outputId": "502092a4-c266-42e7-90b1-1015d3253e97",
        "colab": {
          "base_uri": "https://localhost:8080/",
          "height": 68
        }
      },
      "source": [
        "test_loss, test_acc = model.evaluate(test_images,  test_labels, verbose=2)\n",
        "\n",
        "print('\\nAcurácia do conjunto de teste:', test_acc)"
      ],
      "execution_count": 16,
      "outputs": [
        {
          "output_type": "stream",
          "text": [
            "313/313 - 0s - loss: 0.3311 - accuracy: 0.8797\n",
            "\n",
            "Acurácia do conjunto de teste: 0.8797000050544739\n"
          ],
          "name": "stdout"
        }
      ]
    },
    {
      "cell_type": "markdown",
      "metadata": {
        "id": "JNnkLp9k431Q"
      },
      "source": [
        "A Acurácia do conjunto de teste foi bem melhor em relação a do conjunto de treino, chegando a cem por cento"
      ]
    },
    {
      "cell_type": "code",
      "metadata": {
        "id": "DWz52vwn44NN"
      },
      "source": [
        "classificação = model.predict(test_images)"
      ],
      "execution_count": 17,
      "outputs": []
    },
    {
      "cell_type": "markdown",
      "metadata": {
        "id": "lkO7HFk25bKV"
      },
      "source": [
        "# **Avaliação do modelo**"
      ]
    },
    {
      "cell_type": "code",
      "metadata": {
        "id": "TvPcPVtq5eyG",
        "outputId": "8a585624-bc41-4f2a-a2b8-12467c51f005",
        "colab": {
          "base_uri": "https://localhost:8080/",
          "height": 51
        }
      },
      "source": [
        "model.evaluate(test_images, test_labels)"
      ],
      "execution_count": 19,
      "outputs": [
        {
          "output_type": "stream",
          "text": [
            "313/313 [==============================] - 0s 1ms/step - loss: 0.3311 - accuracy: 0.8797\n"
          ],
          "name": "stdout"
        },
        {
          "output_type": "execute_result",
          "data": {
            "text/plain": [
              "[0.3311351239681244, 0.8797000050544739]"
            ]
          },
          "metadata": {
            "tags": []
          },
          "execution_count": 19
        }
      ]
    },
    {
      "cell_type": "markdown",
      "metadata": {
        "id": "7077Rmpdlx46"
      },
      "source": [
        "Com método evaluete temos a acurácia das imagens e labels, podemos ver que os valores de treino e testes se mantiveram em ambas as análise\n"
      ]
    }
  ]
}